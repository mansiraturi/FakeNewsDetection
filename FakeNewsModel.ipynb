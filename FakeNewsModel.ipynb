{
  "nbformat": 4,
  "nbformat_minor": 0,
  "metadata": {
    "colab": {
      "provenance": [],
      "authorship_tag": "ABX9TyNigHjycdoIwTtKsBtAoStd",
      "include_colab_link": true
    },
    "kernelspec": {
      "name": "python3",
      "display_name": "Python 3"
    },
    "language_info": {
      "name": "python"
    }
  },
  "cells": [
    {
      "cell_type": "markdown",
      "metadata": {
        "id": "view-in-github",
        "colab_type": "text"
      },
      "source": [
        "<a href=\"https://colab.research.google.com/github/mansiraturi/FakeNewsDetection/blob/main/FakeNewsModel.ipynb\" target=\"_parent\"><img src=\"https://colab.research.google.com/assets/colab-badge.svg\" alt=\"Open In Colab\"/></a>"
      ]
    },
    {
      "cell_type": "code",
      "execution_count": null,
      "metadata": {
        "id": "tkTnc1YrlYWF"
      },
      "outputs": [],
      "source": [
        "import pandas as pd\n",
        "import numpy as np\n",
        "import seaborn as sns\n",
        "from sklearn.model_selection import train_test_split\n",
        "from sklearn.metrics import classification_report\n",
        "import re\n",
        "import string\n",
        "import dask.dataframe as dd\n",
        "from dask.multiprocessing import get\n",
        "from nltk.stem import WordNetLemmatizer\n"
      ]
    },
    {
      "cell_type": "code",
      "source": [
        "import matplotlib.pyplot as plt\n",
        "\n",
        "# Preprocessing Data\n",
        "import nltk\n",
        "from nltk.tokenize import word_tokenize\n",
        "from sklearn.metrics import roc_curve, auc\n",
        "from tensorflow.keras.preprocessing.text import Tokenizer\n",
        "from tensorflow.keras.preprocessing.sequence import pad_sequences\n",
        "from tensorflow.keras.utils import to_categorical\n",
        "from tensorflow.keras.preprocessing.text import one_hot\n",
        "\n",
        "#converting to vectors\n",
        "from gensim.models import Word2Vec\n",
        "\n",
        "# Building Model\n",
        "import tensorflow as tf\n",
        "import tensorflow.keras as k\n",
        "from tensorflow.keras.models import Sequential\n",
        "from tensorflow.keras.layers import Dense, Embedding, GlobalAveragePooling1D, LSTM, Bidirectional\n",
        "from tensorflow.keras.losses import binary_crossentropy\n",
        "from tensorflow.keras.layers import Embedding, LSTM, Dense\n",
        "from sklearn.model_selection import train_test_split\n",
        "from sklearn.feature_extraction.text import TfidfVectorizer\n",
        "from sklearn.metrics import accuracy_score\n",
        "\n",
        "# model Validation\n",
        "from sklearn.metrics import confusion_matrix\n",
        "from sklearn.metrics import classification_report\n",
        "\n"
      ],
      "metadata": {
        "id": "lLg9IA73lh3-"
      },
      "execution_count": null,
      "outputs": []
    },
    {
      "cell_type": "code",
      "source": [
        "from google.colab import drive\n",
        "drive.mount(\"/content/drive\")"
      ],
      "metadata": {
        "colab": {
          "base_uri": "https://localhost:8080/"
        },
        "id": "87IcFjsSlh6G",
        "outputId": "15cf68ea-67f7-4fd4-8dc8-9c841b84ef50"
      },
      "execution_count": null,
      "outputs": [
        {
          "output_type": "stream",
          "name": "stdout",
          "text": [
            "Mounted at /content/drive\n"
          ]
        }
      ]
    },
    {
      "cell_type": "code",
      "source": [
        "df= pd.read_csv('/content/drive/MyDrive/preNews.csv', delimiter=\",\")\n",
        "df.head()"
      ],
      "metadata": {
        "colab": {
          "base_uri": "https://localhost:8080/",
          "height": 206
        },
        "id": "MdAtvv5Wlh_f",
        "outputId": "deb9f025-5c2f-4c22-c38e-854db5e2a441"
      },
      "execution_count": null,
      "outputs": [
        {
          "output_type": "execute_result",
          "data": {
            "text/plain": [
              "                                                news  class\n",
              "0  budget fight loom republican flip fiscal scrip...      1\n",
              "1  militari accept transgend recruit monday penta...      1\n",
              "2  senior republican senat let mueller job washin...      1\n",
              "3  fbi russia probe help australian diplomat tipo...      1\n",
              "4  trump want postal servic charg much amazon shi...      1"
            ],
            "text/html": [
              "\n",
              "  <div id=\"df-6af9ba68-4528-4465-a25d-dcbdb9cbb0e4\" class=\"colab-df-container\">\n",
              "    <div>\n",
              "<style scoped>\n",
              "    .dataframe tbody tr th:only-of-type {\n",
              "        vertical-align: middle;\n",
              "    }\n",
              "\n",
              "    .dataframe tbody tr th {\n",
              "        vertical-align: top;\n",
              "    }\n",
              "\n",
              "    .dataframe thead th {\n",
              "        text-align: right;\n",
              "    }\n",
              "</style>\n",
              "<table border=\"1\" class=\"dataframe\">\n",
              "  <thead>\n",
              "    <tr style=\"text-align: right;\">\n",
              "      <th></th>\n",
              "      <th>news</th>\n",
              "      <th>class</th>\n",
              "    </tr>\n",
              "  </thead>\n",
              "  <tbody>\n",
              "    <tr>\n",
              "      <th>0</th>\n",
              "      <td>budget fight loom republican flip fiscal scrip...</td>\n",
              "      <td>1</td>\n",
              "    </tr>\n",
              "    <tr>\n",
              "      <th>1</th>\n",
              "      <td>militari accept transgend recruit monday penta...</td>\n",
              "      <td>1</td>\n",
              "    </tr>\n",
              "    <tr>\n",
              "      <th>2</th>\n",
              "      <td>senior republican senat let mueller job washin...</td>\n",
              "      <td>1</td>\n",
              "    </tr>\n",
              "    <tr>\n",
              "      <th>3</th>\n",
              "      <td>fbi russia probe help australian diplomat tipo...</td>\n",
              "      <td>1</td>\n",
              "    </tr>\n",
              "    <tr>\n",
              "      <th>4</th>\n",
              "      <td>trump want postal servic charg much amazon shi...</td>\n",
              "      <td>1</td>\n",
              "    </tr>\n",
              "  </tbody>\n",
              "</table>\n",
              "</div>\n",
              "    <div class=\"colab-df-buttons\">\n",
              "\n",
              "  <div class=\"colab-df-container\">\n",
              "    <button class=\"colab-df-convert\" onclick=\"convertToInteractive('df-6af9ba68-4528-4465-a25d-dcbdb9cbb0e4')\"\n",
              "            title=\"Convert this dataframe to an interactive table.\"\n",
              "            style=\"display:none;\">\n",
              "\n",
              "  <svg xmlns=\"http://www.w3.org/2000/svg\" height=\"24px\" viewBox=\"0 -960 960 960\">\n",
              "    <path d=\"M120-120v-720h720v720H120Zm60-500h600v-160H180v160Zm220 220h160v-160H400v160Zm0 220h160v-160H400v160ZM180-400h160v-160H180v160Zm440 0h160v-160H620v160ZM180-180h160v-160H180v160Zm440 0h160v-160H620v160Z\"/>\n",
              "  </svg>\n",
              "    </button>\n",
              "\n",
              "  <style>\n",
              "    .colab-df-container {\n",
              "      display:flex;\n",
              "      gap: 12px;\n",
              "    }\n",
              "\n",
              "    .colab-df-convert {\n",
              "      background-color: #E8F0FE;\n",
              "      border: none;\n",
              "      border-radius: 50%;\n",
              "      cursor: pointer;\n",
              "      display: none;\n",
              "      fill: #1967D2;\n",
              "      height: 32px;\n",
              "      padding: 0 0 0 0;\n",
              "      width: 32px;\n",
              "    }\n",
              "\n",
              "    .colab-df-convert:hover {\n",
              "      background-color: #E2EBFA;\n",
              "      box-shadow: 0px 1px 2px rgba(60, 64, 67, 0.3), 0px 1px 3px 1px rgba(60, 64, 67, 0.15);\n",
              "      fill: #174EA6;\n",
              "    }\n",
              "\n",
              "    .colab-df-buttons div {\n",
              "      margin-bottom: 4px;\n",
              "    }\n",
              "\n",
              "    [theme=dark] .colab-df-convert {\n",
              "      background-color: #3B4455;\n",
              "      fill: #D2E3FC;\n",
              "    }\n",
              "\n",
              "    [theme=dark] .colab-df-convert:hover {\n",
              "      background-color: #434B5C;\n",
              "      box-shadow: 0px 1px 3px 1px rgba(0, 0, 0, 0.15);\n",
              "      filter: drop-shadow(0px 1px 2px rgba(0, 0, 0, 0.3));\n",
              "      fill: #FFFFFF;\n",
              "    }\n",
              "  </style>\n",
              "\n",
              "    <script>\n",
              "      const buttonEl =\n",
              "        document.querySelector('#df-6af9ba68-4528-4465-a25d-dcbdb9cbb0e4 button.colab-df-convert');\n",
              "      buttonEl.style.display =\n",
              "        google.colab.kernel.accessAllowed ? 'block' : 'none';\n",
              "\n",
              "      async function convertToInteractive(key) {\n",
              "        const element = document.querySelector('#df-6af9ba68-4528-4465-a25d-dcbdb9cbb0e4');\n",
              "        const dataTable =\n",
              "          await google.colab.kernel.invokeFunction('convertToInteractive',\n",
              "                                                    [key], {});\n",
              "        if (!dataTable) return;\n",
              "\n",
              "        const docLinkHtml = 'Like what you see? Visit the ' +\n",
              "          '<a target=\"_blank\" href=https://colab.research.google.com/notebooks/data_table.ipynb>data table notebook</a>'\n",
              "          + ' to learn more about interactive tables.';\n",
              "        element.innerHTML = '';\n",
              "        dataTable['output_type'] = 'display_data';\n",
              "        await google.colab.output.renderOutput(dataTable, element);\n",
              "        const docLink = document.createElement('div');\n",
              "        docLink.innerHTML = docLinkHtml;\n",
              "        element.appendChild(docLink);\n",
              "      }\n",
              "    </script>\n",
              "  </div>\n",
              "\n",
              "\n",
              "<div id=\"df-ccd813c7-8d06-4690-b2c7-b3b7c2097808\">\n",
              "  <button class=\"colab-df-quickchart\" onclick=\"quickchart('df-ccd813c7-8d06-4690-b2c7-b3b7c2097808')\"\n",
              "            title=\"Suggest charts\"\n",
              "            style=\"display:none;\">\n",
              "\n",
              "<svg xmlns=\"http://www.w3.org/2000/svg\" height=\"24px\"viewBox=\"0 0 24 24\"\n",
              "     width=\"24px\">\n",
              "    <g>\n",
              "        <path d=\"M19 3H5c-1.1 0-2 .9-2 2v14c0 1.1.9 2 2 2h14c1.1 0 2-.9 2-2V5c0-1.1-.9-2-2-2zM9 17H7v-7h2v7zm4 0h-2V7h2v10zm4 0h-2v-4h2v4z\"/>\n",
              "    </g>\n",
              "</svg>\n",
              "  </button>\n",
              "\n",
              "<style>\n",
              "  .colab-df-quickchart {\n",
              "      --bg-color: #E8F0FE;\n",
              "      --fill-color: #1967D2;\n",
              "      --hover-bg-color: #E2EBFA;\n",
              "      --hover-fill-color: #174EA6;\n",
              "      --disabled-fill-color: #AAA;\n",
              "      --disabled-bg-color: #DDD;\n",
              "  }\n",
              "\n",
              "  [theme=dark] .colab-df-quickchart {\n",
              "      --bg-color: #3B4455;\n",
              "      --fill-color: #D2E3FC;\n",
              "      --hover-bg-color: #434B5C;\n",
              "      --hover-fill-color: #FFFFFF;\n",
              "      --disabled-bg-color: #3B4455;\n",
              "      --disabled-fill-color: #666;\n",
              "  }\n",
              "\n",
              "  .colab-df-quickchart {\n",
              "    background-color: var(--bg-color);\n",
              "    border: none;\n",
              "    border-radius: 50%;\n",
              "    cursor: pointer;\n",
              "    display: none;\n",
              "    fill: var(--fill-color);\n",
              "    height: 32px;\n",
              "    padding: 0;\n",
              "    width: 32px;\n",
              "  }\n",
              "\n",
              "  .colab-df-quickchart:hover {\n",
              "    background-color: var(--hover-bg-color);\n",
              "    box-shadow: 0 1px 2px rgba(60, 64, 67, 0.3), 0 1px 3px 1px rgba(60, 64, 67, 0.15);\n",
              "    fill: var(--button-hover-fill-color);\n",
              "  }\n",
              "\n",
              "  .colab-df-quickchart-complete:disabled,\n",
              "  .colab-df-quickchart-complete:disabled:hover {\n",
              "    background-color: var(--disabled-bg-color);\n",
              "    fill: var(--disabled-fill-color);\n",
              "    box-shadow: none;\n",
              "  }\n",
              "\n",
              "  .colab-df-spinner {\n",
              "    border: 2px solid var(--fill-color);\n",
              "    border-color: transparent;\n",
              "    border-bottom-color: var(--fill-color);\n",
              "    animation:\n",
              "      spin 1s steps(1) infinite;\n",
              "  }\n",
              "\n",
              "  @keyframes spin {\n",
              "    0% {\n",
              "      border-color: transparent;\n",
              "      border-bottom-color: var(--fill-color);\n",
              "      border-left-color: var(--fill-color);\n",
              "    }\n",
              "    20% {\n",
              "      border-color: transparent;\n",
              "      border-left-color: var(--fill-color);\n",
              "      border-top-color: var(--fill-color);\n",
              "    }\n",
              "    30% {\n",
              "      border-color: transparent;\n",
              "      border-left-color: var(--fill-color);\n",
              "      border-top-color: var(--fill-color);\n",
              "      border-right-color: var(--fill-color);\n",
              "    }\n",
              "    40% {\n",
              "      border-color: transparent;\n",
              "      border-right-color: var(--fill-color);\n",
              "      border-top-color: var(--fill-color);\n",
              "    }\n",
              "    60% {\n",
              "      border-color: transparent;\n",
              "      border-right-color: var(--fill-color);\n",
              "    }\n",
              "    80% {\n",
              "      border-color: transparent;\n",
              "      border-right-color: var(--fill-color);\n",
              "      border-bottom-color: var(--fill-color);\n",
              "    }\n",
              "    90% {\n",
              "      border-color: transparent;\n",
              "      border-bottom-color: var(--fill-color);\n",
              "    }\n",
              "  }\n",
              "</style>\n",
              "\n",
              "  <script>\n",
              "    async function quickchart(key) {\n",
              "      const quickchartButtonEl =\n",
              "        document.querySelector('#' + key + ' button');\n",
              "      quickchartButtonEl.disabled = true;  // To prevent multiple clicks.\n",
              "      quickchartButtonEl.classList.add('colab-df-spinner');\n",
              "      try {\n",
              "        const charts = await google.colab.kernel.invokeFunction(\n",
              "            'suggestCharts', [key], {});\n",
              "      } catch (error) {\n",
              "        console.error('Error during call to suggestCharts:', error);\n",
              "      }\n",
              "      quickchartButtonEl.classList.remove('colab-df-spinner');\n",
              "      quickchartButtonEl.classList.add('colab-df-quickchart-complete');\n",
              "    }\n",
              "    (() => {\n",
              "      let quickchartButtonEl =\n",
              "        document.querySelector('#df-ccd813c7-8d06-4690-b2c7-b3b7c2097808 button');\n",
              "      quickchartButtonEl.style.display =\n",
              "        google.colab.kernel.accessAllowed ? 'block' : 'none';\n",
              "    })();\n",
              "  </script>\n",
              "</div>\n",
              "\n",
              "    </div>\n",
              "  </div>\n"
            ],
            "application/vnd.google.colaboratory.intrinsic+json": {
              "type": "dataframe",
              "variable_name": "df",
              "summary": "{\n  \"name\": \"df\",\n  \"rows\": 44838,\n  \"fields\": [\n    {\n      \"column\": \"news\",\n      \"properties\": {\n        \"dtype\": \"string\",\n        \"samples\": [\n          \"bomb blast kill nine peopl pakistan near afghan border miranshah pakistan reuter bomb rig motorcycl explod militantplagu part northwest pakistan near afghan border kill nine peopl offici said wednesday latest violenc recent rise attack nucleararm countri the bomb deton remot control late tuesday armi vehicl pas mir ali town north waziristan region said three pakistani offici declin identifi author speak medium spokesman pakistani armi respons secur volatil ethnic pashtun region respond call seek comment waziristan bleed said polic offici tahir khan peshawar main citi northwest said heard blast detail milit group claim respons north waziristan long home pakistani foreign islamist milit link taliban qaeda pakistani armi launch major push mid2014 the militari offens clear milit base larg broke network forc flee either porou border afghanistan part pakistan but milit struck back sometim major attack last friday three pakistani taliban suicid bomber storm colleg peshawar kill eight student guard week earlier senior polic command kill suicid bomb attack peshawar tuesday pakistani taliban kill member antitaliban faction anoth part northwest bomb aim member anoth progovern faction kill five peopl week earlier the pakistani taliban fight toppl govern impos strict interpret islam law they loo alli afghan taliban rule afghanistan overthrown usback militari action 2001 defens secretari jim matti visit pakistan week urg redoubl effort rein milit accus use countri base carri attack afghanistan\",\n          \"republican senat candid think you don believ god you deserv shot republican alway like push back idea bigot howev hard believ consid racist otherwis bigot offici polici becom even harder claim believ openli bigot candid case point alabama senat candid roy mooremoor remov feder bench twice due allow bigotri make defi unit state suprem court now moor decid next target american citizen believ christian god shock statement moor say nonbeliev you wonder shoot kill 2017 becaus ask taken god everyth taken prayer school taken prayer council meet thi man derang extremist gave speech last month blame america march away religion public squar nation ill well newsflash moor america never never christian nation you fellow fascist christ warrior rude awaken the rest toler continu verbal abus toler attempt enshrin bigotri law consid super christian alabama like win senat race howev sure cooler head within unit state senat includ republican find languag offens outrag shouldyou sir bigot charlatan busi hold public offic kindfeatur imag via gari tramontinagetti imag\",\n          \"polic arrest suspect knifeman near birmingham train station paper london reuter british polic arrest suspect knifeman near birmingham new street station birmingham mail newspap report websit friday polic immedi comment\"\n        ],\n        \"num_unique_values\": 38825,\n        \"semantic_type\": \"\",\n        \"description\": \"\"\n      }\n    },\n    {\n      \"column\": \"class\",\n      \"properties\": {\n        \"dtype\": \"number\",\n        \"std\": 0,\n        \"min\": 0,\n        \"max\": 1,\n        \"samples\": [\n          0,\n          1\n        ],\n        \"num_unique_values\": 2,\n        \"semantic_type\": \"\",\n        \"description\": \"\"\n      }\n    }\n  ]\n}"
            }
          },
          "metadata": {},
          "execution_count": 4
        }
      ]
    },
    {
      "cell_type": "code",
      "source": [
        "corpus=[]"
      ],
      "metadata": {
        "id": "x8yKqhhkhV0r"
      },
      "execution_count": null,
      "outputs": []
    },
    {
      "cell_type": "code",
      "source": [
        "for i in range(0, len(df)):\n",
        "  rev = re.sub(r'[^a-zA-Z\\s]', ' ', df['news'][i])\n",
        "  rev =  rev.split()\n",
        "  rev = ' '.join(rev)\n",
        "  corpus.append(rev)"
      ],
      "metadata": {
        "id": "OzBVbVjXZ9H6"
      },
      "execution_count": null,
      "outputs": []
    },
    {
      "cell_type": "code",
      "source": [
        "print(corpus[:2])"
      ],
      "metadata": {
        "colab": {
          "base_uri": "https://localhost:8080/"
        },
        "id": "MPMZGqx2aiok",
        "outputId": "d2feed5c-cbf6-4a74-a1f7-f8f20dac67cf"
      },
      "execution_count": null,
      "outputs": [
        {
          "output_type": "stream",
          "name": "stdout",
          "text": [
            "['budget fight loom republican flip fiscal script washington reuter the head conserv republican faction congress vote month huge expans nation debt pay tax cut call fiscal conserv sunday urg budget restraint keep sharp pivot way among republican repres mark meadow speak face nation drew hard line feder spend lawmak brace battl januari when return holiday wednesday lawmak begin tri pas feder budget fight like link issu immigr polici even novemb congression elect campaign approach republican seek keep control congress presid donald trump republican want big budget increas militari spend democrat want proport increas nondefens discretionari spend program support educ scientif research infrastructur public health environment protect the trump administr alreadi will say increas nondefens discretionari spend percent meadow chairman small influenti hous freedom caucu said program now democrat say enough need give govern pay rais percent for fiscal conserv see rational eventu run peopl money said meadow among republican vote late decemb parti debtfinanc tax overhaul expect balloon feder budget deficit add trillion year trillion nation debt interest hear mark talk fiscal respons democrat repres joseph crowley said crowley said republican tax bill would requir unit state borrow trillion paid futur gener financ tax cut corpor rich thi one least fiscal respons bill ever seen pas histori hous repres think pay mani mani year come crowley said republican insist tax packag biggest tax overhaul year boost economi job growth hous speaker paul ryan support tax bill recent went meadow make clear radio interview welfar entitl reform parti often call would top republican prioriti republican parlanc entitl program mean food stamp hous assist medicar medicaid health insur elderli poor disabl well program creat washington assist needi democrat seiz ryan earli decemb remark say show republican would tri pay tax overhaul seek spend cut social program but goal hous republican may take back seat senat vote democrat need approv budget prevent govern shutdown democrat leverag senat republican narrowli control defend discretionari nondefens program social spend tackl issu dreamer peopl brought illeg countri child trump septemb put march expir date defer action childhood arriv daca program protect young immigr deport provid work permit the presid said recent twitter messag want fund propos mexican border wall immigr law chang exchang agre help dreamer repres debbi dingel told favor link issu polici object wall fund need daca clean said wednesday trump aid meet congression leader discus issu that follow weekend strategi session trump republican leader jan white hous said trump schedul meet sunday florida republican governor rick scott want emerg aid the hous pas billion aid packag hurrican florida texa puerto rico wildfir california the packag far exceed billion request trump administr the senat yet vote aid', 'militari accept transgend recruit monday pentagon washington reuter transgend peopl allow first time enlist militari start monday order feder court pentagon said friday presid donald trump administr decid appeal rule block transgend ban two feder appeal court one washington one virginia last week reject administr request put hold order lower court judg requir militari begin accept transgend recruit jan justic depart offici said administr challeng rule the depart defens announc releas independ studi issu come week rather litig interim appeal occur administr decid wait dod studi continu defend presid law author district court meantim offici said speak condit anonym septemb pentagon said creat panel senior offici studi implement direct trump prohibit transgend individu serv the defens depart feb submit plan trump lawyer repres currentlyserv transgend servic member aspir recruit said expect administr appeal rule conservativemajor suprem court hope would happen pentagon spokeswoman heather babb said statement mandat court order depart defens prepar begin access transgend applic militari servic jan all applic must meet access standard jennif levi lawyer gay lesbian transgend advocaci group glad call decis appeal great news hope mean govern come see way justifi ban good militari countri levi said both glad american civil liberti union repres plaintiff lawsuit file administr move appeal hardlin conserv support trump announc juli would prohibit transgend peopl serv militari revers democrat presid barack obama polici accept trump said twitter time militari burden tremend medic cost disrupt transgend militari would entail four feder judg baltimor washington seattl riversid california issu rule block trump ban legal challeng republican presid polici proceed the judg said ban would like violat right constitut equal protect law the pentagon dec issu guidelin recruit personnel order enlist transgend applic jan the memo outlin medic requir specifi applic sex would identifi even undergar would wear the trump administr previous said legal paper arm forc prepar train thousand personnel medic standard need process transgend applic might accept individu medic fit servic the obama administr set deadlin juli begin accept transgend recruit but trump defens secretari jame matti postpon date jan presid ban put indefinit trump taken step aim roll back transgend right octob administr said feder law ban genderbas workplac discrimin protect transgend employe revers anoth obamaera posit februari trump rescind guidanc issu obama administr say public school allow transgend student restroom correspond gender ident']\n"
          ]
        }
      ]
    },
    {
      "cell_type": "code",
      "source": [
        "#divide into train and test set\n",
        "X = df.drop(\"class\", axis=1)\n",
        "y = df[\"class\"]"
      ],
      "metadata": {
        "id": "BeQG0SaOpk5r"
      },
      "execution_count": null,
      "outputs": []
    },
    {
      "cell_type": "markdown",
      "source": [
        "**Bag of Words**"
      ],
      "metadata": {
        "id": "OkNVdbMtbRuc"
      }
    },
    {
      "cell_type": "code",
      "source": [
        "from sklearn.feature_extraction.text import CountVectorizer\n",
        "cv= CountVectorizer(max_features=5500, ngram_range=(1,3))  #will take a combination of 1,2 or 3 words and count the frequency\n",
        "x_cv = cv.fit_transform(corpus).toarray()"
      ],
      "metadata": {
        "id": "UoclAXIobI1L"
      },
      "execution_count": null,
      "outputs": []
    },
    {
      "cell_type": "code",
      "source": [
        "x_cv.shape"
      ],
      "metadata": {
        "colab": {
          "base_uri": "https://localhost:8080/"
        },
        "id": "TdSYr5Z8b6gn",
        "outputId": "53f5d659-a0a7-49c0-98ea-4800851226f1"
      },
      "execution_count": null,
      "outputs": [
        {
          "output_type": "execute_result",
          "data": {
            "text/plain": [
              "(44838, 5500)"
            ]
          },
          "metadata": {},
          "execution_count": 42
        }
      ]
    },
    {
      "cell_type": "code",
      "source": [
        "feature_names = cv.get_feature_names_out()\n",
        "print(feature_names[:20])\n"
      ],
      "metadata": {
        "colab": {
          "base_uri": "https://localhost:8080/"
        },
        "id": "ZqxqxoDacgWH",
        "outputId": "de1afd21-a8ed-4fde-b861-7bc44b8c9609"
      },
      "execution_count": null,
      "outputs": [
        {
          "output_type": "stream",
          "name": "stdout",
          "text": [
            "['abandon' 'abba' 'abc' 'abc new' 'abdullah' 'abe' 'abedin' 'abid' 'abil'\n",
            " 'abl' 'abort' 'about' 'abroad' 'absenc' 'absolut' 'absurd' 'abu' 'abus'\n",
            " 'academ' 'academi']\n"
          ]
        }
      ]
    },
    {
      "cell_type": "code",
      "source": [
        "cv.get_params()"
      ],
      "metadata": {
        "colab": {
          "base_uri": "https://localhost:8080/"
        },
        "id": "mFeiv_fUim-w",
        "outputId": "674f297c-c5cf-4d6f-b777-806054318670"
      },
      "execution_count": null,
      "outputs": [
        {
          "output_type": "execute_result",
          "data": {
            "text/plain": [
              "{'analyzer': 'word',\n",
              " 'binary': False,\n",
              " 'decode_error': 'strict',\n",
              " 'dtype': numpy.int64,\n",
              " 'encoding': 'utf-8',\n",
              " 'input': 'content',\n",
              " 'lowercase': True,\n",
              " 'max_df': 1.0,\n",
              " 'max_features': 5500,\n",
              " 'min_df': 1,\n",
              " 'ngram_range': (1, 3),\n",
              " 'preprocessor': None,\n",
              " 'stop_words': None,\n",
              " 'strip_accents': None,\n",
              " 'token_pattern': '(?u)\\\\b\\\\w\\\\w+\\\\b',\n",
              " 'tokenizer': None,\n",
              " 'vocabulary': None}"
            ]
          },
          "metadata": {},
          "execution_count": 44
        }
      ]
    },
    {
      "cell_type": "code",
      "source": [
        "xc_train, xc_test, yc_train, yc_test= train_test_split(x_cv, y, test_size=.25, stratify=y, random_state=42)"
      ],
      "metadata": {
        "id": "PjJcYYTzpk7r"
      },
      "execution_count": null,
      "outputs": []
    },
    {
      "cell_type": "code",
      "source": [
        "count_df = pd.DataFrame(xc_train, columns = cv.get_feature_names_out())"
      ],
      "metadata": {
        "id": "LfnOpHZYiusv"
      },
      "execution_count": null,
      "outputs": []
    },
    {
      "cell_type": "code",
      "source": [
        "count_df.head()"
      ],
      "metadata": {
        "colab": {
          "base_uri": "https://localhost:8080/",
          "height": 235
        },
        "id": "X-DBzQxUjJ7Q",
        "outputId": "f30510ce-9f62-4f37-a008-6ea0ee7039c5"
      },
      "execution_count": null,
      "outputs": [
        {
          "output_type": "execute_result",
          "data": {
            "text/plain": [
              "   abandon  abba  abc  abc new  abdullah  abe  abedin  abid  abil  abl  ...  \\\n",
              "0        0     0    0        0         0    0       0     0     0    0  ...   \n",
              "1        0     0    0        0         0    0       0     0     0    0  ...   \n",
              "2        0     0    0        0         0    0       0     0     0    0  ...   \n",
              "3        0     0    0        0         0    0       0     0     0    0  ...   \n",
              "4        0     0    1        0         0    0       0     0     0    0  ...   \n",
              "\n",
              "   your  youth  youtub  ypg  zealand  zero  zika  zimbabw  zone  zuma  \n",
              "0     0      0       0    0        0     0     0        0     0     0  \n",
              "1     0      0       0    0        0     0     0        0     0     0  \n",
              "2     0      1       0    0        0     0     0        0     0     0  \n",
              "3     0      0       0    0        0     0     0        0     0     0  \n",
              "4     0      0       1    0        0     0     0        0     0     0  \n",
              "\n",
              "[5 rows x 5500 columns]"
            ],
            "text/html": [
              "\n",
              "  <div id=\"df-0df9ee94-2081-4809-ae8f-0ab1cb1be368\" class=\"colab-df-container\">\n",
              "    <div>\n",
              "<style scoped>\n",
              "    .dataframe tbody tr th:only-of-type {\n",
              "        vertical-align: middle;\n",
              "    }\n",
              "\n",
              "    .dataframe tbody tr th {\n",
              "        vertical-align: top;\n",
              "    }\n",
              "\n",
              "    .dataframe thead th {\n",
              "        text-align: right;\n",
              "    }\n",
              "</style>\n",
              "<table border=\"1\" class=\"dataframe\">\n",
              "  <thead>\n",
              "    <tr style=\"text-align: right;\">\n",
              "      <th></th>\n",
              "      <th>abandon</th>\n",
              "      <th>abba</th>\n",
              "      <th>abc</th>\n",
              "      <th>abc new</th>\n",
              "      <th>abdullah</th>\n",
              "      <th>abe</th>\n",
              "      <th>abedin</th>\n",
              "      <th>abid</th>\n",
              "      <th>abil</th>\n",
              "      <th>abl</th>\n",
              "      <th>...</th>\n",
              "      <th>your</th>\n",
              "      <th>youth</th>\n",
              "      <th>youtub</th>\n",
              "      <th>ypg</th>\n",
              "      <th>zealand</th>\n",
              "      <th>zero</th>\n",
              "      <th>zika</th>\n",
              "      <th>zimbabw</th>\n",
              "      <th>zone</th>\n",
              "      <th>zuma</th>\n",
              "    </tr>\n",
              "  </thead>\n",
              "  <tbody>\n",
              "    <tr>\n",
              "      <th>0</th>\n",
              "      <td>0</td>\n",
              "      <td>0</td>\n",
              "      <td>0</td>\n",
              "      <td>0</td>\n",
              "      <td>0</td>\n",
              "      <td>0</td>\n",
              "      <td>0</td>\n",
              "      <td>0</td>\n",
              "      <td>0</td>\n",
              "      <td>0</td>\n",
              "      <td>...</td>\n",
              "      <td>0</td>\n",
              "      <td>0</td>\n",
              "      <td>0</td>\n",
              "      <td>0</td>\n",
              "      <td>0</td>\n",
              "      <td>0</td>\n",
              "      <td>0</td>\n",
              "      <td>0</td>\n",
              "      <td>0</td>\n",
              "      <td>0</td>\n",
              "    </tr>\n",
              "    <tr>\n",
              "      <th>1</th>\n",
              "      <td>0</td>\n",
              "      <td>0</td>\n",
              "      <td>0</td>\n",
              "      <td>0</td>\n",
              "      <td>0</td>\n",
              "      <td>0</td>\n",
              "      <td>0</td>\n",
              "      <td>0</td>\n",
              "      <td>0</td>\n",
              "      <td>0</td>\n",
              "      <td>...</td>\n",
              "      <td>0</td>\n",
              "      <td>0</td>\n",
              "      <td>0</td>\n",
              "      <td>0</td>\n",
              "      <td>0</td>\n",
              "      <td>0</td>\n",
              "      <td>0</td>\n",
              "      <td>0</td>\n",
              "      <td>0</td>\n",
              "      <td>0</td>\n",
              "    </tr>\n",
              "    <tr>\n",
              "      <th>2</th>\n",
              "      <td>0</td>\n",
              "      <td>0</td>\n",
              "      <td>0</td>\n",
              "      <td>0</td>\n",
              "      <td>0</td>\n",
              "      <td>0</td>\n",
              "      <td>0</td>\n",
              "      <td>0</td>\n",
              "      <td>0</td>\n",
              "      <td>0</td>\n",
              "      <td>...</td>\n",
              "      <td>0</td>\n",
              "      <td>1</td>\n",
              "      <td>0</td>\n",
              "      <td>0</td>\n",
              "      <td>0</td>\n",
              "      <td>0</td>\n",
              "      <td>0</td>\n",
              "      <td>0</td>\n",
              "      <td>0</td>\n",
              "      <td>0</td>\n",
              "    </tr>\n",
              "    <tr>\n",
              "      <th>3</th>\n",
              "      <td>0</td>\n",
              "      <td>0</td>\n",
              "      <td>0</td>\n",
              "      <td>0</td>\n",
              "      <td>0</td>\n",
              "      <td>0</td>\n",
              "      <td>0</td>\n",
              "      <td>0</td>\n",
              "      <td>0</td>\n",
              "      <td>0</td>\n",
              "      <td>...</td>\n",
              "      <td>0</td>\n",
              "      <td>0</td>\n",
              "      <td>0</td>\n",
              "      <td>0</td>\n",
              "      <td>0</td>\n",
              "      <td>0</td>\n",
              "      <td>0</td>\n",
              "      <td>0</td>\n",
              "      <td>0</td>\n",
              "      <td>0</td>\n",
              "    </tr>\n",
              "    <tr>\n",
              "      <th>4</th>\n",
              "      <td>0</td>\n",
              "      <td>0</td>\n",
              "      <td>1</td>\n",
              "      <td>0</td>\n",
              "      <td>0</td>\n",
              "      <td>0</td>\n",
              "      <td>0</td>\n",
              "      <td>0</td>\n",
              "      <td>0</td>\n",
              "      <td>0</td>\n",
              "      <td>...</td>\n",
              "      <td>0</td>\n",
              "      <td>0</td>\n",
              "      <td>1</td>\n",
              "      <td>0</td>\n",
              "      <td>0</td>\n",
              "      <td>0</td>\n",
              "      <td>0</td>\n",
              "      <td>0</td>\n",
              "      <td>0</td>\n",
              "      <td>0</td>\n",
              "    </tr>\n",
              "  </tbody>\n",
              "</table>\n",
              "<p>5 rows × 5500 columns</p>\n",
              "</div>\n",
              "    <div class=\"colab-df-buttons\">\n",
              "\n",
              "  <div class=\"colab-df-container\">\n",
              "    <button class=\"colab-df-convert\" onclick=\"convertToInteractive('df-0df9ee94-2081-4809-ae8f-0ab1cb1be368')\"\n",
              "            title=\"Convert this dataframe to an interactive table.\"\n",
              "            style=\"display:none;\">\n",
              "\n",
              "  <svg xmlns=\"http://www.w3.org/2000/svg\" height=\"24px\" viewBox=\"0 -960 960 960\">\n",
              "    <path d=\"M120-120v-720h720v720H120Zm60-500h600v-160H180v160Zm220 220h160v-160H400v160Zm0 220h160v-160H400v160ZM180-400h160v-160H180v160Zm440 0h160v-160H620v160ZM180-180h160v-160H180v160Zm440 0h160v-160H620v160Z\"/>\n",
              "  </svg>\n",
              "    </button>\n",
              "\n",
              "  <style>\n",
              "    .colab-df-container {\n",
              "      display:flex;\n",
              "      gap: 12px;\n",
              "    }\n",
              "\n",
              "    .colab-df-convert {\n",
              "      background-color: #E8F0FE;\n",
              "      border: none;\n",
              "      border-radius: 50%;\n",
              "      cursor: pointer;\n",
              "      display: none;\n",
              "      fill: #1967D2;\n",
              "      height: 32px;\n",
              "      padding: 0 0 0 0;\n",
              "      width: 32px;\n",
              "    }\n",
              "\n",
              "    .colab-df-convert:hover {\n",
              "      background-color: #E2EBFA;\n",
              "      box-shadow: 0px 1px 2px rgba(60, 64, 67, 0.3), 0px 1px 3px 1px rgba(60, 64, 67, 0.15);\n",
              "      fill: #174EA6;\n",
              "    }\n",
              "\n",
              "    .colab-df-buttons div {\n",
              "      margin-bottom: 4px;\n",
              "    }\n",
              "\n",
              "    [theme=dark] .colab-df-convert {\n",
              "      background-color: #3B4455;\n",
              "      fill: #D2E3FC;\n",
              "    }\n",
              "\n",
              "    [theme=dark] .colab-df-convert:hover {\n",
              "      background-color: #434B5C;\n",
              "      box-shadow: 0px 1px 3px 1px rgba(0, 0, 0, 0.15);\n",
              "      filter: drop-shadow(0px 1px 2px rgba(0, 0, 0, 0.3));\n",
              "      fill: #FFFFFF;\n",
              "    }\n",
              "  </style>\n",
              "\n",
              "    <script>\n",
              "      const buttonEl =\n",
              "        document.querySelector('#df-0df9ee94-2081-4809-ae8f-0ab1cb1be368 button.colab-df-convert');\n",
              "      buttonEl.style.display =\n",
              "        google.colab.kernel.accessAllowed ? 'block' : 'none';\n",
              "\n",
              "      async function convertToInteractive(key) {\n",
              "        const element = document.querySelector('#df-0df9ee94-2081-4809-ae8f-0ab1cb1be368');\n",
              "        const dataTable =\n",
              "          await google.colab.kernel.invokeFunction('convertToInteractive',\n",
              "                                                    [key], {});\n",
              "        if (!dataTable) return;\n",
              "\n",
              "        const docLinkHtml = 'Like what you see? Visit the ' +\n",
              "          '<a target=\"_blank\" href=https://colab.research.google.com/notebooks/data_table.ipynb>data table notebook</a>'\n",
              "          + ' to learn more about interactive tables.';\n",
              "        element.innerHTML = '';\n",
              "        dataTable['output_type'] = 'display_data';\n",
              "        await google.colab.output.renderOutput(dataTable, element);\n",
              "        const docLink = document.createElement('div');\n",
              "        docLink.innerHTML = docLinkHtml;\n",
              "        element.appendChild(docLink);\n",
              "      }\n",
              "    </script>\n",
              "  </div>\n",
              "\n",
              "\n",
              "<div id=\"df-47ca8c9f-5cd6-4115-9527-9d8b0fbe4a1b\">\n",
              "  <button class=\"colab-df-quickchart\" onclick=\"quickchart('df-47ca8c9f-5cd6-4115-9527-9d8b0fbe4a1b')\"\n",
              "            title=\"Suggest charts\"\n",
              "            style=\"display:none;\">\n",
              "\n",
              "<svg xmlns=\"http://www.w3.org/2000/svg\" height=\"24px\"viewBox=\"0 0 24 24\"\n",
              "     width=\"24px\">\n",
              "    <g>\n",
              "        <path d=\"M19 3H5c-1.1 0-2 .9-2 2v14c0 1.1.9 2 2 2h14c1.1 0 2-.9 2-2V5c0-1.1-.9-2-2-2zM9 17H7v-7h2v7zm4 0h-2V7h2v10zm4 0h-2v-4h2v4z\"/>\n",
              "    </g>\n",
              "</svg>\n",
              "  </button>\n",
              "\n",
              "<style>\n",
              "  .colab-df-quickchart {\n",
              "      --bg-color: #E8F0FE;\n",
              "      --fill-color: #1967D2;\n",
              "      --hover-bg-color: #E2EBFA;\n",
              "      --hover-fill-color: #174EA6;\n",
              "      --disabled-fill-color: #AAA;\n",
              "      --disabled-bg-color: #DDD;\n",
              "  }\n",
              "\n",
              "  [theme=dark] .colab-df-quickchart {\n",
              "      --bg-color: #3B4455;\n",
              "      --fill-color: #D2E3FC;\n",
              "      --hover-bg-color: #434B5C;\n",
              "      --hover-fill-color: #FFFFFF;\n",
              "      --disabled-bg-color: #3B4455;\n",
              "      --disabled-fill-color: #666;\n",
              "  }\n",
              "\n",
              "  .colab-df-quickchart {\n",
              "    background-color: var(--bg-color);\n",
              "    border: none;\n",
              "    border-radius: 50%;\n",
              "    cursor: pointer;\n",
              "    display: none;\n",
              "    fill: var(--fill-color);\n",
              "    height: 32px;\n",
              "    padding: 0;\n",
              "    width: 32px;\n",
              "  }\n",
              "\n",
              "  .colab-df-quickchart:hover {\n",
              "    background-color: var(--hover-bg-color);\n",
              "    box-shadow: 0 1px 2px rgba(60, 64, 67, 0.3), 0 1px 3px 1px rgba(60, 64, 67, 0.15);\n",
              "    fill: var(--button-hover-fill-color);\n",
              "  }\n",
              "\n",
              "  .colab-df-quickchart-complete:disabled,\n",
              "  .colab-df-quickchart-complete:disabled:hover {\n",
              "    background-color: var(--disabled-bg-color);\n",
              "    fill: var(--disabled-fill-color);\n",
              "    box-shadow: none;\n",
              "  }\n",
              "\n",
              "  .colab-df-spinner {\n",
              "    border: 2px solid var(--fill-color);\n",
              "    border-color: transparent;\n",
              "    border-bottom-color: var(--fill-color);\n",
              "    animation:\n",
              "      spin 1s steps(1) infinite;\n",
              "  }\n",
              "\n",
              "  @keyframes spin {\n",
              "    0% {\n",
              "      border-color: transparent;\n",
              "      border-bottom-color: var(--fill-color);\n",
              "      border-left-color: var(--fill-color);\n",
              "    }\n",
              "    20% {\n",
              "      border-color: transparent;\n",
              "      border-left-color: var(--fill-color);\n",
              "      border-top-color: var(--fill-color);\n",
              "    }\n",
              "    30% {\n",
              "      border-color: transparent;\n",
              "      border-left-color: var(--fill-color);\n",
              "      border-top-color: var(--fill-color);\n",
              "      border-right-color: var(--fill-color);\n",
              "    }\n",
              "    40% {\n",
              "      border-color: transparent;\n",
              "      border-right-color: var(--fill-color);\n",
              "      border-top-color: var(--fill-color);\n",
              "    }\n",
              "    60% {\n",
              "      border-color: transparent;\n",
              "      border-right-color: var(--fill-color);\n",
              "    }\n",
              "    80% {\n",
              "      border-color: transparent;\n",
              "      border-right-color: var(--fill-color);\n",
              "      border-bottom-color: var(--fill-color);\n",
              "    }\n",
              "    90% {\n",
              "      border-color: transparent;\n",
              "      border-bottom-color: var(--fill-color);\n",
              "    }\n",
              "  }\n",
              "</style>\n",
              "\n",
              "  <script>\n",
              "    async function quickchart(key) {\n",
              "      const quickchartButtonEl =\n",
              "        document.querySelector('#' + key + ' button');\n",
              "      quickchartButtonEl.disabled = true;  // To prevent multiple clicks.\n",
              "      quickchartButtonEl.classList.add('colab-df-spinner');\n",
              "      try {\n",
              "        const charts = await google.colab.kernel.invokeFunction(\n",
              "            'suggestCharts', [key], {});\n",
              "      } catch (error) {\n",
              "        console.error('Error during call to suggestCharts:', error);\n",
              "      }\n",
              "      quickchartButtonEl.classList.remove('colab-df-spinner');\n",
              "      quickchartButtonEl.classList.add('colab-df-quickchart-complete');\n",
              "    }\n",
              "    (() => {\n",
              "      let quickchartButtonEl =\n",
              "        document.querySelector('#df-47ca8c9f-5cd6-4115-9527-9d8b0fbe4a1b button');\n",
              "      quickchartButtonEl.style.display =\n",
              "        google.colab.kernel.accessAllowed ? 'block' : 'none';\n",
              "    })();\n",
              "  </script>\n",
              "</div>\n",
              "\n",
              "    </div>\n",
              "  </div>\n"
            ],
            "application/vnd.google.colaboratory.intrinsic+json": {
              "type": "dataframe",
              "variable_name": "count_df"
            }
          },
          "metadata": {},
          "execution_count": 50
        }
      ]
    },
    {
      "cell_type": "code",
      "source": [
        "# sorted(zip(classifier.coef_[0]))\n",
        "# we need a model which trains x_cv and this classifier model is then sorted to get the features with most frequency"
      ],
      "metadata": {
        "id": "OCzl0sbUjJ9w"
      },
      "execution_count": null,
      "outputs": []
    },
    {
      "cell_type": "markdown",
      "source": [
        "**TF-IDF Vectors**"
      ],
      "metadata": {
        "id": "VLq68FlC691z"
      }
    },
    {
      "cell_type": "code",
      "source": [],
      "metadata": {
        "id": "3y9P83jbjJ_9"
      },
      "execution_count": null,
      "outputs": []
    },
    {
      "cell_type": "code",
      "source": [],
      "metadata": {
        "id": "OUxifiAQjKDZ"
      },
      "execution_count": null,
      "outputs": []
    },
    {
      "cell_type": "code",
      "source": [
        "x_train, x_test, y_train, y_test= train_test_split(X, y, test_size=.25, stratify=y, random_state=42)"
      ],
      "metadata": {
        "id": "_HcbSdFEeBpC"
      },
      "execution_count": null,
      "outputs": []
    },
    {
      "cell_type": "code",
      "source": [
        "len(y_train)"
      ],
      "metadata": {
        "colab": {
          "base_uri": "https://localhost:8080/"
        },
        "id": "eZZG6lcEsJVy",
        "outputId": "163c54d1-1ee0-44ab-a757-0feeeb8f2c86"
      },
      "execution_count": null,
      "outputs": [
        {
          "output_type": "execute_result",
          "data": {
            "text/plain": [
              "33628"
            ]
          },
          "metadata": {},
          "execution_count": 8
        }
      ]
    },
    {
      "cell_type": "code",
      "source": [
        "len(x_train)"
      ],
      "metadata": {
        "colab": {
          "base_uri": "https://localhost:8080/"
        },
        "id": "9niALig3wLsJ",
        "outputId": "c375ff45-09bb-4a1c-e6dc-a214991031b5"
      },
      "execution_count": null,
      "outputs": [
        {
          "output_type": "execute_result",
          "data": {
            "text/plain": [
              "33628"
            ]
          },
          "metadata": {},
          "execution_count": 9
        }
      ]
    },
    {
      "cell_type": "code",
      "source": [
        "#vectorizing x as raw data can't be used directly to perform calculations so we convert textual data to numeric data\n",
        "from sklearn.feature_extraction.text import TfidfVectorizer\n",
        "vectorization= TfidfVectorizer()\n",
        "# Tfidf- term frequency/inverse document frequency: counts the frequency of a word in a file\n",
        "xv_train = vectorization.fit_transform(x_train['news'])\n",
        "xv_test = vectorization.transform(x_test['news'])\n"
      ],
      "metadata": {
        "id": "y1C_IzM-pk9r"
      },
      "execution_count": null,
      "outputs": []
    },
    {
      "cell_type": "code",
      "source": [
        "from sklearn.naive_bayes import MultinomialNB\n",
        "MB = MultinomialNB()\n",
        "MB.fit(xv_train, y_train)\n",
        "pred_MB = MB.predict(xv_test)\n",
        "MB_acc = MB.score(xv_test, y_test)"
      ],
      "metadata": {
        "id": "zvCo4bq2plDi"
      },
      "execution_count": null,
      "outputs": []
    },
    {
      "cell_type": "code",
      "source": [
        "print(pred_MB)"
      ],
      "metadata": {
        "colab": {
          "base_uri": "https://localhost:8080/"
        },
        "id": "fj1BebOMpecO",
        "outputId": "e0a1aefc-1870-450e-ac1a-1aa3a39223ca"
      },
      "execution_count": null,
      "outputs": [
        {
          "output_type": "stream",
          "name": "stdout",
          "text": [
            "[0 1 1 ... 0 0 1]\n"
          ]
        }
      ]
    },
    {
      "cell_type": "code",
      "source": [
        "print(MB_acc)"
      ],
      "metadata": {
        "colab": {
          "base_uri": "https://localhost:8080/"
        },
        "id": "UxVRGHXfzW03",
        "outputId": "6a5d577d-bf0b-4d39-9c30-75e881a81848"
      },
      "execution_count": null,
      "outputs": [
        {
          "output_type": "stream",
          "name": "stdout",
          "text": [
            "0.9411239964317574\n"
          ]
        }
      ]
    },
    {
      "cell_type": "code",
      "source": [
        "print(classification_report(y_test, pred_MB))"
      ],
      "metadata": {
        "colab": {
          "base_uri": "https://localhost:8080/"
        },
        "id": "a52m9ZL8zZD5",
        "outputId": "c19d8baf-e5d5-44f3-8040-60cc1662a7d8"
      },
      "execution_count": null,
      "outputs": [
        {
          "output_type": "stream",
          "name": "stdout",
          "text": [
            "              precision    recall  f1-score   support\n",
            "\n",
            "           0       0.94      0.95      0.94      5863\n",
            "           1       0.94      0.94      0.94      5347\n",
            "\n",
            "    accuracy                           0.94     11210\n",
            "   macro avg       0.94      0.94      0.94     11210\n",
            "weighted avg       0.94      0.94      0.94     11210\n",
            "\n"
          ]
        }
      ]
    },
    {
      "cell_type": "code",
      "source": [
        "import nltk\n",
        "nltk.download('punkt')"
      ],
      "metadata": {
        "colab": {
          "base_uri": "https://localhost:8080/"
        },
        "id": "UN5yskVT0Vy7",
        "outputId": "26fa2fc6-aa8a-4968-ec04-3eafc13d857c"
      },
      "execution_count": null,
      "outputs": [
        {
          "output_type": "stream",
          "name": "stderr",
          "text": [
            "[nltk_data] Downloading package punkt to /root/nltk_data...\n",
            "[nltk_data]   Unzipping tokenizers/punkt.zip.\n"
          ]
        },
        {
          "output_type": "execute_result",
          "data": {
            "text/plain": [
              "True"
            ]
          },
          "metadata": {},
          "execution_count": 15
        }
      ]
    },
    {
      "cell_type": "code",
      "source": [
        "X_df = X.copy()\n",
        "y_df= y.copy()"
      ],
      "metadata": {
        "id": "Yek8bZRhS03o"
      },
      "execution_count": null,
      "outputs": []
    },
    {
      "cell_type": "code",
      "source": [
        "from gensim.models import Word2Vec\n",
        "from nltk.tokenize import word_tokenize\n",
        "\n",
        "X_df['tokens'] = X_df['news'].apply(lambda x: word_tokenize(x))\n",
        "\n",
        "# Train Word2Vec model using Gensim\n",
        "word2vec_model = Word2Vec(sentences=X_df['tokens'], vector_size=100, window=5, min_count=3, workers=2, epochs=10)\n",
        "\n",
        "# Save the trained Word2Vec model if needed\n",
        "word2vec_model.save(\"word2vec_model.model\")\n",
        "\n",
        "# Get word vectors using Gensim\n",
        "word_vectors_gensim = {word: word2vec_model.wv[word].tolist() for word in word2vec_model.wv.index_to_key}\n",
        "\n",
        "# Show word vectors using Gensim\n",
        "for word, vector in list(word_vectors_gensim.items())[:5]:\n",
        "    print(f'{word}: {vector}')\n"
      ],
      "metadata": {
        "colab": {
          "base_uri": "https://localhost:8080/"
        },
        "id": "5Q3GVYnfT4qU",
        "outputId": "feddc4dc-e0ca-4aa0-b23f-c76ce4279be6"
      },
      "execution_count": null,
      "outputs": [
        {
          "output_type": "stream",
          "name": "stdout",
          "text": [
            "trump: [0.24943725764751434, 0.2871953547000885, -1.6766794919967651, 0.6568116545677185, -4.298946857452393, 2.9204444885253906, 1.3839951753616333, -2.8915774822235107, -0.14933724701404572, 0.9820129871368408, -1.0006996393203735, 1.2044992446899414, -0.7841105461120605, 1.8135277032852173, -2.8738322257995605, -3.143169641494751, 0.47507283091545105, 4.425313949584961, 1.0306642055511475, -0.526606559753418, 1.0593782663345337, 1.5716592073440552, -0.11411906033754349, 1.2844539880752563, -0.8665936589241028, 0.8779049515724182, 1.7362582683563232, 0.42940255999565125, -2.8078360557556152, -1.2084709405899048, 0.30791494250297546, -1.5127878189086914, 1.6082290410995483, -2.2414305210113525, -1.0446279048919678, -0.2785964012145996, 0.5218765735626221, -0.11956803500652313, 0.737395167350769, -0.7304701805114746, -0.5670835375785828, 1.2601877450942993, -1.4483599662780762, 1.2331312894821167, 0.9038975834846497, -0.26454755663871765, -0.7900117635726929, -1.3644351959228516, 0.7043430805206299, -1.0987157821655273, -0.18635205924510956, 0.26675400137901306, 1.57766592502594, 1.979664921760559, 1.1641312837600708, 0.993176281452179, 0.8320035338401794, 0.10738318413496017, 1.0681407451629639, 0.6578766107559204, 1.2786400318145752, 1.7619043588638306, 0.3106658160686493, 1.084856390953064, 0.3874356150627136, 0.5371407866477966, 0.7498201727867126, -1.485497236251831, 1.9740585088729858, 0.06296473741531372, 1.7357501983642578, 2.403831720352173, 0.6403104662895203, -1.1760339736938477, 1.7249239683151245, -0.741398274898529, -0.9006178975105286, 1.8597408533096313, 0.5553811192512512, -0.6344894766807556, 0.06118327006697655, 0.9037459492683411, 0.8971628546714783, -1.3407511711120605, -1.542988657951355, -0.09816095232963562, 1.5041364431381226, -1.5740454196929932, -2.292750597000122, 3.4014017581939697, -0.29296359419822693, 0.2152746617794037, -0.6794945001602173, 1.448947787284851, 0.0017748434329405427, -3.49540638923645, -2.9424595832824707, -0.4885215759277344, -0.9907287955284119, 1.9011811017990112]\n",
            "said: [1.0990225076675415, 0.7621543407440186, 0.0860314592719078, 0.4398481547832489, 0.49301859736442566, 2.158210277557373, 0.4958597421646118, 0.5876356959342957, -0.9530152678489685, -0.8528987765312195, 2.849830150604248, -1.7063063383102417, 0.1737455427646637, 0.9156812429428101, -1.7986727952957153, 0.5956839323043823, 2.1701323986053467, 1.1120719909667969, -0.9321000576019287, 1.169077754020691, -1.3926278352737427, 0.7894334197044373, 0.20148031413555145, 0.9290474653244019, 0.8013407588005066, 1.4488403797149658, 0.24962648749351501, 0.09180868417024612, -0.02378186769783497, -0.47936180233955383, -1.113235592842102, -0.970686674118042, 0.010921185836195946, -0.9596785306930542, 1.6356531381607056, 0.7957667112350464, 0.21504861116409302, 1.2582412958145142, 1.5238062143325806, 4.418659210205078, 1.3536356687545776, -0.6744529008865356, -1.845791220664978, 0.5589714050292969, -1.5699626207351685, -0.5934948325157166, 2.589836359024048, -0.1339649111032486, -0.7581361532211304, -0.4469716250896454, -0.5006446242332458, -1.4266995191574097, -1.63606858253479, 0.4341072738170624, 0.6811215281486511, -0.4057050347328186, 1.5233891010284424, 1.3144124746322632, -1.507765531539917, 1.0217137336730957, -2.960413932800293, -1.4240697622299194, 0.3773576319217682, -1.133178949356079, 1.5778167247772217, -2.2401349544525146, -0.7820835113525391, 1.516818881034851, 1.0390443801879883, -0.09010913223028183, 2.372241497039795, -2.3968820571899414, 0.24096304178237915, -0.4207213521003723, -1.1174463033676147, -0.6196092963218689, -1.5869306325912476, -1.4159469604492188, 1.9289401769638062, -1.0743813514709473, -1.7856171131134033, -0.32167595624923706, -0.650479793548584, -1.982280969619751, -2.6978957653045654, 0.009832976385951042, -0.19841545820236206, -1.0860204696655273, -0.24996598064899445, 1.499723196029663, -2.301671028137207, -1.0932623147964478, 1.3154900074005127, 0.23927584290504456, -0.36020368337631226, 0.8734254240989685, 0.40211665630340576, 0.7883814573287964, -1.3805683851242065, -0.352043092250824]\n",
            "the: [0.36866873502731323, 0.2679399847984314, -0.03885229676961899, -0.9609776735305786, -2.5401971340179443, 0.7249659895896912, 0.00045673412387259305, -1.0679877996444702, 0.3915698826313019, 0.3614385724067688, 0.7556021809577942, 0.29866930842399597, 1.350121259689331, -2.723493814468384, -1.5666923522949219, -0.10498706251382828, -0.010371001437306404, 1.096270203590393, 1.7591184377670288, 1.808664321899414, 0.7794468998908997, -0.2721759080886841, -0.9626317620277405, 0.4823094606399536, -0.31200942397117615, 1.1166975498199463, 1.8567612171173096, -0.11986040323972702, 0.050902046263217926, -2.379394769668579, -1.1935702562332153, 0.10271680355072021, 2.3726303577423096, -1.5222750902175903, 1.89723539352417, -0.5515904426574707, -0.551304817199707, 1.1768627166748047, -1.708817481994629, -0.6123005151748657, 0.017288032919168472, -0.556980311870575, -0.47220200300216675, 1.4275449514389038, -1.2675185203552246, 2.021089553833008, -0.9343963265419006, -1.0644561052322388, -1.9551551342010498, -0.45724084973335266, -0.5380558967590332, 0.2784264385700226, 0.8258299827575684, 0.6094075441360474, 0.6243214011192322, 0.3502344787120819, 0.18713438510894775, -1.0116784572601318, -0.6027159690856934, -0.927920401096344, 0.3825828433036804, 0.9965740442276001, 0.794280469417572, -0.8405593633651733, 1.6422852277755737, -0.37430882453918457, 0.08446156233549118, 0.05768822133541107, 0.355309396982193, -0.9916046857833862, 1.6569596529006958, 0.03264281898736954, 0.7262171506881714, 0.07780991494655609, -0.9686369299888611, -0.975226640701294, 0.9413673281669617, -0.0032128102611750364, 1.800444483757019, -1.995568871498108, 2.032956600189209, -0.40098246932029724, 1.126062035560608, -2.63874888420105, 0.9047743082046509, 0.9855411648750305, -0.6130077242851257, -1.8136398792266846, 0.4412161111831665, 1.906101107597351, 0.8274083733558655, 0.050072081387043, 2.0781521797180176, -0.12488216161727905, -0.7960910201072693, -1.0001163482666016, -0.769692599773407, -1.0837801694869995, 0.4662526845932007, -0.8177921772003174]\n",
            "state: [-0.14599144458770752, 1.6606305837631226, 3.0390255451202393, -0.5790681838989258, 0.7445532083511353, 2.6036274433135986, -1.3983200788497925, 0.2664854824542999, 2.925530433654785, -0.5413292646408081, 0.7506526112556458, 1.7549433708190918, 2.1187705993652344, -1.7394781112670898, 0.09612944722175598, 1.281785488128662, 0.6159250736236572, -1.248397946357727, 0.13426969945430756, 0.8235067129135132, 1.2860280275344849, -0.5075829029083252, 3.107715606689453, 2.4793436527252197, -0.6863742470741272, 0.46117734909057617, 4.3240556716918945, -2.4116644859313965, 1.9498860836029053, -1.4195019006729126, -0.10275454074144363, -3.9306490421295166, -0.1870642751455307, -2.7354564666748047, 0.8638210892677307, 0.7585500478744507, 0.20931300520896912, -2.044191837310791, -2.3209781646728516, 1.8529025316238403, 3.4391674995422363, -0.4803664982318878, 3.7614784240722656, 1.1520733833312988, 0.5032996535301208, 2.1550986766815186, 1.5791535377502441, -0.7506035566329956, 0.0071057481691241264, -1.2940846681594849, -1.911158800125122, 0.5877036452293396, -2.360948324203491, -0.12040020525455475, 0.23293441534042358, 2.066689968109131, -0.5412355661392212, 1.5090030431747437, 0.9646326303482056, -0.14069786667823792, 2.6672656536102295, 2.8904712200164795, 1.731916904449463, -0.14719440042972565, 2.604811429977417, -1.3385545015335083, -1.5922918319702148, 3.3346712589263916, 3.6504616737365723, -0.23889552056789398, 3.0176239013671875, -1.9267024993896484, -2.442112445831299, 2.801461935043335, 1.5783849954605103, -0.751947283744812, -3.144303321838379, 0.17703284323215485, -0.017894206568598747, -0.2519976496696472, 2.7426998615264893, -3.6501717567443848, 1.5106781721115112, -1.5218427181243896, 1.8887615203857422, -1.1680874824523926, 2.236976385116577, -1.722750186920166, -1.4208290576934814, -0.9137520790100098, -3.4934356212615967, -2.58516526222229, 0.8696836829185486, 0.5469813942909241, -0.5239048004150391, -0.20998071134090424, -0.40925148129463196, -1.895281195640564, 0.7965613007545471, -3.0031392574310303]\n",
            "presid: [-1.529158592224121, -0.24470669031143188, -1.8385332822799683, 2.1089611053466797, -1.4897266626358032, 0.5168679356575012, -0.7014971971511841, -2.66113018989563, -0.49406906962394714, 0.6949872374534607, -1.1539623737335205, 1.702485203742981, -0.4318290650844574, -0.13742263615131378, -2.4878628253936768, -2.2805628776550293, -0.1660815179347992, 2.3451385498046875, -0.17432746291160583, -0.3146279752254486, 0.34440720081329346, -1.4044910669326782, 3.393766403198242, 3.4031271934509277, -0.18297062814235687, -0.6301354169845581, 1.3946361541748047, -0.07061084359884262, -1.0033942461013794, -0.7013360857963562, 0.6685693264007568, -0.41680872440338135, -2.313206672668457, -3.104759693145752, 3.20605731010437, -1.2046082019805908, 1.4310516119003296, 1.0056825876235962, -0.17027226090431213, 2.204263687133789, 0.6388123631477356, 0.8867889642715454, -3.251049518585205, 2.0798163414001465, 3.4576966762542725, -0.5919055938720703, 0.04936052858829498, -0.514883279800415, -0.5904378294944763, -2.331531524658203, -0.05626706779003143, 1.8419914245605469, 1.5347789525985718, 2.2324271202087402, 0.3958072066307068, 1.8075557947158813, 0.23749132454395294, -0.4785485565662384, 0.7075389623641968, 0.5289114117622375, 0.7767288684844971, 0.06715356558561325, 1.173144817352295, -0.49292486906051636, -1.3917359113693237, -1.1116684675216675, 0.9393781423568726, -0.5639297962188721, 2.623169183731079, 0.7191746234893799, 0.2570289373397827, 2.833521604537964, -1.0558702945709229, 0.18720395863056183, 1.5798698663711548, 1.1637365818023682, -1.5033094882965088, 0.2743653953075409, -0.046453043818473816, -2.5091094970703125, -0.48004645109176636, -0.6461077928543091, 1.0573444366455078, -0.930994987487793, -3.3926949501037598, -0.7410314083099365, 2.2180347442626953, 0.7950611114501953, -3.498323917388916, -1.7874534130096436, -2.679457426071167, -1.9609078168869019, -0.34583210945129395, -0.8430989384651184, -0.7392238974571228, -1.9571877717971802, 0.3973677456378937, 1.4474272727966309, -0.6220646500587463, 4.390138149261475]\n"
          ]
        }
      ]
    },
    {
      "cell_type": "code",
      "source": [
        "def agg_vectors(tokens, word2vec_model):\n",
        "    vectors = [word2vec_model.wv[word] for word in tokens if word in word2vec_model.wv]\n",
        "    if vectors:\n",
        "        return np.mean(vectors, axis=0)\n",
        "    else:\n",
        "        return np.zeros(word2vec_model.vector_size)"
      ],
      "metadata": {
        "id": "fd23ANI_RuvJ"
      },
      "execution_count": null,
      "outputs": []
    },
    {
      "cell_type": "code",
      "source": [
        "X_df.head()"
      ],
      "metadata": {
        "colab": {
          "base_uri": "https://localhost:8080/",
          "height": 206
        },
        "id": "OCUQM-xPWGFc",
        "outputId": "0d685c79-09c0-47d6-f0b2-80513bd204bb"
      },
      "execution_count": null,
      "outputs": [
        {
          "output_type": "execute_result",
          "data": {
            "text/plain": [
              "                                                news  \\\n",
              "0  budget fight loom republican flip fiscal scrip...   \n",
              "1  militari accept transgend recruit monday penta...   \n",
              "2  senior republican senat let mueller job washin...   \n",
              "3  fbi russia probe help australian diplomat tipo...   \n",
              "4  trump want postal servic charg much amazon shi...   \n",
              "\n",
              "                                              tokens  \n",
              "0  [budget, fight, loom, republican, flip, fiscal...  \n",
              "1  [militari, accept, transgend, recruit, monday,...  \n",
              "2  [senior, republican, senat, let, mueller, job,...  \n",
              "3  [fbi, russia, probe, help, australian, diploma...  \n",
              "4  [trump, want, postal, servic, charg, much, ama...  "
            ],
            "text/html": [
              "\n",
              "  <div id=\"df-96601bbf-4aac-4813-8a0b-88193f921163\" class=\"colab-df-container\">\n",
              "    <div>\n",
              "<style scoped>\n",
              "    .dataframe tbody tr th:only-of-type {\n",
              "        vertical-align: middle;\n",
              "    }\n",
              "\n",
              "    .dataframe tbody tr th {\n",
              "        vertical-align: top;\n",
              "    }\n",
              "\n",
              "    .dataframe thead th {\n",
              "        text-align: right;\n",
              "    }\n",
              "</style>\n",
              "<table border=\"1\" class=\"dataframe\">\n",
              "  <thead>\n",
              "    <tr style=\"text-align: right;\">\n",
              "      <th></th>\n",
              "      <th>news</th>\n",
              "      <th>tokens</th>\n",
              "    </tr>\n",
              "  </thead>\n",
              "  <tbody>\n",
              "    <tr>\n",
              "      <th>0</th>\n",
              "      <td>budget fight loom republican flip fiscal scrip...</td>\n",
              "      <td>[budget, fight, loom, republican, flip, fiscal...</td>\n",
              "    </tr>\n",
              "    <tr>\n",
              "      <th>1</th>\n",
              "      <td>militari accept transgend recruit monday penta...</td>\n",
              "      <td>[militari, accept, transgend, recruit, monday,...</td>\n",
              "    </tr>\n",
              "    <tr>\n",
              "      <th>2</th>\n",
              "      <td>senior republican senat let mueller job washin...</td>\n",
              "      <td>[senior, republican, senat, let, mueller, job,...</td>\n",
              "    </tr>\n",
              "    <tr>\n",
              "      <th>3</th>\n",
              "      <td>fbi russia probe help australian diplomat tipo...</td>\n",
              "      <td>[fbi, russia, probe, help, australian, diploma...</td>\n",
              "    </tr>\n",
              "    <tr>\n",
              "      <th>4</th>\n",
              "      <td>trump want postal servic charg much amazon shi...</td>\n",
              "      <td>[trump, want, postal, servic, charg, much, ama...</td>\n",
              "    </tr>\n",
              "  </tbody>\n",
              "</table>\n",
              "</div>\n",
              "    <div class=\"colab-df-buttons\">\n",
              "\n",
              "  <div class=\"colab-df-container\">\n",
              "    <button class=\"colab-df-convert\" onclick=\"convertToInteractive('df-96601bbf-4aac-4813-8a0b-88193f921163')\"\n",
              "            title=\"Convert this dataframe to an interactive table.\"\n",
              "            style=\"display:none;\">\n",
              "\n",
              "  <svg xmlns=\"http://www.w3.org/2000/svg\" height=\"24px\" viewBox=\"0 -960 960 960\">\n",
              "    <path d=\"M120-120v-720h720v720H120Zm60-500h600v-160H180v160Zm220 220h160v-160H400v160Zm0 220h160v-160H400v160ZM180-400h160v-160H180v160Zm440 0h160v-160H620v160ZM180-180h160v-160H180v160Zm440 0h160v-160H620v160Z\"/>\n",
              "  </svg>\n",
              "    </button>\n",
              "\n",
              "  <style>\n",
              "    .colab-df-container {\n",
              "      display:flex;\n",
              "      gap: 12px;\n",
              "    }\n",
              "\n",
              "    .colab-df-convert {\n",
              "      background-color: #E8F0FE;\n",
              "      border: none;\n",
              "      border-radius: 50%;\n",
              "      cursor: pointer;\n",
              "      display: none;\n",
              "      fill: #1967D2;\n",
              "      height: 32px;\n",
              "      padding: 0 0 0 0;\n",
              "      width: 32px;\n",
              "    }\n",
              "\n",
              "    .colab-df-convert:hover {\n",
              "      background-color: #E2EBFA;\n",
              "      box-shadow: 0px 1px 2px rgba(60, 64, 67, 0.3), 0px 1px 3px 1px rgba(60, 64, 67, 0.15);\n",
              "      fill: #174EA6;\n",
              "    }\n",
              "\n",
              "    .colab-df-buttons div {\n",
              "      margin-bottom: 4px;\n",
              "    }\n",
              "\n",
              "    [theme=dark] .colab-df-convert {\n",
              "      background-color: #3B4455;\n",
              "      fill: #D2E3FC;\n",
              "    }\n",
              "\n",
              "    [theme=dark] .colab-df-convert:hover {\n",
              "      background-color: #434B5C;\n",
              "      box-shadow: 0px 1px 3px 1px rgba(0, 0, 0, 0.15);\n",
              "      filter: drop-shadow(0px 1px 2px rgba(0, 0, 0, 0.3));\n",
              "      fill: #FFFFFF;\n",
              "    }\n",
              "  </style>\n",
              "\n",
              "    <script>\n",
              "      const buttonEl =\n",
              "        document.querySelector('#df-96601bbf-4aac-4813-8a0b-88193f921163 button.colab-df-convert');\n",
              "      buttonEl.style.display =\n",
              "        google.colab.kernel.accessAllowed ? 'block' : 'none';\n",
              "\n",
              "      async function convertToInteractive(key) {\n",
              "        const element = document.querySelector('#df-96601bbf-4aac-4813-8a0b-88193f921163');\n",
              "        const dataTable =\n",
              "          await google.colab.kernel.invokeFunction('convertToInteractive',\n",
              "                                                    [key], {});\n",
              "        if (!dataTable) return;\n",
              "\n",
              "        const docLinkHtml = 'Like what you see? Visit the ' +\n",
              "          '<a target=\"_blank\" href=https://colab.research.google.com/notebooks/data_table.ipynb>data table notebook</a>'\n",
              "          + ' to learn more about interactive tables.';\n",
              "        element.innerHTML = '';\n",
              "        dataTable['output_type'] = 'display_data';\n",
              "        await google.colab.output.renderOutput(dataTable, element);\n",
              "        const docLink = document.createElement('div');\n",
              "        docLink.innerHTML = docLinkHtml;\n",
              "        element.appendChild(docLink);\n",
              "      }\n",
              "    </script>\n",
              "  </div>\n",
              "\n",
              "\n",
              "<div id=\"df-0ec0e43f-123b-48ba-adf9-4ca2b5fb9724\">\n",
              "  <button class=\"colab-df-quickchart\" onclick=\"quickchart('df-0ec0e43f-123b-48ba-adf9-4ca2b5fb9724')\"\n",
              "            title=\"Suggest charts\"\n",
              "            style=\"display:none;\">\n",
              "\n",
              "<svg xmlns=\"http://www.w3.org/2000/svg\" height=\"24px\"viewBox=\"0 0 24 24\"\n",
              "     width=\"24px\">\n",
              "    <g>\n",
              "        <path d=\"M19 3H5c-1.1 0-2 .9-2 2v14c0 1.1.9 2 2 2h14c1.1 0 2-.9 2-2V5c0-1.1-.9-2-2-2zM9 17H7v-7h2v7zm4 0h-2V7h2v10zm4 0h-2v-4h2v4z\"/>\n",
              "    </g>\n",
              "</svg>\n",
              "  </button>\n",
              "\n",
              "<style>\n",
              "  .colab-df-quickchart {\n",
              "      --bg-color: #E8F0FE;\n",
              "      --fill-color: #1967D2;\n",
              "      --hover-bg-color: #E2EBFA;\n",
              "      --hover-fill-color: #174EA6;\n",
              "      --disabled-fill-color: #AAA;\n",
              "      --disabled-bg-color: #DDD;\n",
              "  }\n",
              "\n",
              "  [theme=dark] .colab-df-quickchart {\n",
              "      --bg-color: #3B4455;\n",
              "      --fill-color: #D2E3FC;\n",
              "      --hover-bg-color: #434B5C;\n",
              "      --hover-fill-color: #FFFFFF;\n",
              "      --disabled-bg-color: #3B4455;\n",
              "      --disabled-fill-color: #666;\n",
              "  }\n",
              "\n",
              "  .colab-df-quickchart {\n",
              "    background-color: var(--bg-color);\n",
              "    border: none;\n",
              "    border-radius: 50%;\n",
              "    cursor: pointer;\n",
              "    display: none;\n",
              "    fill: var(--fill-color);\n",
              "    height: 32px;\n",
              "    padding: 0;\n",
              "    width: 32px;\n",
              "  }\n",
              "\n",
              "  .colab-df-quickchart:hover {\n",
              "    background-color: var(--hover-bg-color);\n",
              "    box-shadow: 0 1px 2px rgba(60, 64, 67, 0.3), 0 1px 3px 1px rgba(60, 64, 67, 0.15);\n",
              "    fill: var(--button-hover-fill-color);\n",
              "  }\n",
              "\n",
              "  .colab-df-quickchart-complete:disabled,\n",
              "  .colab-df-quickchart-complete:disabled:hover {\n",
              "    background-color: var(--disabled-bg-color);\n",
              "    fill: var(--disabled-fill-color);\n",
              "    box-shadow: none;\n",
              "  }\n",
              "\n",
              "  .colab-df-spinner {\n",
              "    border: 2px solid var(--fill-color);\n",
              "    border-color: transparent;\n",
              "    border-bottom-color: var(--fill-color);\n",
              "    animation:\n",
              "      spin 1s steps(1) infinite;\n",
              "  }\n",
              "\n",
              "  @keyframes spin {\n",
              "    0% {\n",
              "      border-color: transparent;\n",
              "      border-bottom-color: var(--fill-color);\n",
              "      border-left-color: var(--fill-color);\n",
              "    }\n",
              "    20% {\n",
              "      border-color: transparent;\n",
              "      border-left-color: var(--fill-color);\n",
              "      border-top-color: var(--fill-color);\n",
              "    }\n",
              "    30% {\n",
              "      border-color: transparent;\n",
              "      border-left-color: var(--fill-color);\n",
              "      border-top-color: var(--fill-color);\n",
              "      border-right-color: var(--fill-color);\n",
              "    }\n",
              "    40% {\n",
              "      border-color: transparent;\n",
              "      border-right-color: var(--fill-color);\n",
              "      border-top-color: var(--fill-color);\n",
              "    }\n",
              "    60% {\n",
              "      border-color: transparent;\n",
              "      border-right-color: var(--fill-color);\n",
              "    }\n",
              "    80% {\n",
              "      border-color: transparent;\n",
              "      border-right-color: var(--fill-color);\n",
              "      border-bottom-color: var(--fill-color);\n",
              "    }\n",
              "    90% {\n",
              "      border-color: transparent;\n",
              "      border-bottom-color: var(--fill-color);\n",
              "    }\n",
              "  }\n",
              "</style>\n",
              "\n",
              "  <script>\n",
              "    async function quickchart(key) {\n",
              "      const quickchartButtonEl =\n",
              "        document.querySelector('#' + key + ' button');\n",
              "      quickchartButtonEl.disabled = true;  // To prevent multiple clicks.\n",
              "      quickchartButtonEl.classList.add('colab-df-spinner');\n",
              "      try {\n",
              "        const charts = await google.colab.kernel.invokeFunction(\n",
              "            'suggestCharts', [key], {});\n",
              "      } catch (error) {\n",
              "        console.error('Error during call to suggestCharts:', error);\n",
              "      }\n",
              "      quickchartButtonEl.classList.remove('colab-df-spinner');\n",
              "      quickchartButtonEl.classList.add('colab-df-quickchart-complete');\n",
              "    }\n",
              "    (() => {\n",
              "      let quickchartButtonEl =\n",
              "        document.querySelector('#df-0ec0e43f-123b-48ba-adf9-4ca2b5fb9724 button');\n",
              "      quickchartButtonEl.style.display =\n",
              "        google.colab.kernel.accessAllowed ? 'block' : 'none';\n",
              "    })();\n",
              "  </script>\n",
              "</div>\n",
              "\n",
              "    </div>\n",
              "  </div>\n"
            ],
            "application/vnd.google.colaboratory.intrinsic+json": {
              "type": "dataframe",
              "variable_name": "X_df",
              "repr_error": "unhashable type: 'list'"
            }
          },
          "metadata": {},
          "execution_count": 21
        }
      ]
    },
    {
      "cell_type": "code",
      "source": [
        "X_df['vector'] = X_df['tokens'].apply(lambda tokens: agg_vectors(tokens, word2vec_model))\n",
        "\n",
        "# Prepare features for the Naive Bayes model\n",
        "X_vec = pd.DataFrame(X_df['vector'].tolist(), index=X.index)\n"
      ],
      "metadata": {
        "id": "LBtHauy_Tb5V"
      },
      "execution_count": null,
      "outputs": []
    },
    {
      "cell_type": "code",
      "source": [
        "#power tranformation\n",
        "#X_vec = np.sqrt(X_vec.abs()) * np.sign(X_vec)"
      ],
      "metadata": {
        "id": "G6rX88YqetMx"
      },
      "execution_count": null,
      "outputs": []
    },
    {
      "cell_type": "code",
      "source": [
        "X_vec[X_vec < 0] = 0"
      ],
      "metadata": {
        "id": "mQabuizadjfH"
      },
      "execution_count": null,
      "outputs": []
    },
    {
      "cell_type": "code",
      "source": [
        "y_df.head()"
      ],
      "metadata": {
        "colab": {
          "base_uri": "https://localhost:8080/"
        },
        "id": "DqkpomBLbwO4",
        "outputId": "be925fc8-4c9b-4518-cb00-19cc0b6352fa"
      },
      "execution_count": null,
      "outputs": [
        {
          "output_type": "execute_result",
          "data": {
            "text/plain": [
              "0    1\n",
              "1    1\n",
              "2    1\n",
              "3    1\n",
              "4    1\n",
              "Name: class, dtype: int64"
            ]
          },
          "metadata": {},
          "execution_count": 35
        }
      ]
    },
    {
      "cell_type": "code",
      "source": [
        "# Split the data into train and test sets\n",
        "X_train, X_test, y_train, y_test = train_test_split(X_vec, y_df, test_size=0.25, random_state=42)"
      ],
      "metadata": {
        "id": "pUe4oHDFZQqr"
      },
      "execution_count": null,
      "outputs": []
    },
    {
      "cell_type": "markdown",
      "source": [
        "**Naive Bayes**"
      ],
      "metadata": {
        "id": "x4XToTRXfMD2"
      }
    },
    {
      "cell_type": "code",
      "source": [
        "from sklearn.naive_bayes import MultinomialNB\n",
        "# Initialize and train the Naive Bayes model\n",
        "nb_model = MultinomialNB()\n",
        "nb_model.fit(X_train, y_train)\n",
        "\n",
        "# Make predictions on the test set\n",
        "predictions = nb_model.predict(X_test)\n",
        "\n",
        "# Evaluate the model\n",
        "accuracy = np.mean(predictions == y_test)\n",
        "print(f\"Accuracy: {accuracy}\")"
      ],
      "metadata": {
        "colab": {
          "base_uri": "https://localhost:8080/"
        },
        "id": "BfRCKxyPTTUC",
        "outputId": "d053b1ae-df4f-407e-c5a5-bd8e7e4d24bb"
      },
      "execution_count": null,
      "outputs": [
        {
          "output_type": "stream",
          "name": "stdout",
          "text": [
            "Accuracy: 0.872078501338091\n"
          ]
        }
      ]
    },
    {
      "cell_type": "code",
      "source": [
        "import seaborn as sns\n",
        "from sklearn.metrics import classification_report\n",
        "clf_report = classification_report(y_test, predictions, target_names=['Fake', 'True'], output_dict=True)\n",
        "cleaned_report={}\n",
        "cleaned_report['Fake']=clf_report['Fake']\n",
        "cleaned_report['True']=clf_report['True']\n",
        "sns.heatmap(pd.DataFrame(cleaned_report).iloc[:-1,:],annot=True)"
      ],
      "metadata": {
        "colab": {
          "base_uri": "https://localhost:8080/",
          "height": 447
        },
        "id": "YOTHSC0g9ocN",
        "outputId": "a3adbedf-a629-4c01-cf73-d42fb7da5e4b"
      },
      "execution_count": null,
      "outputs": [
        {
          "output_type": "execute_result",
          "data": {
            "text/plain": [
              "<Axes: >"
            ]
          },
          "metadata": {},
          "execution_count": 39
        },
        {
          "output_type": "display_data",
          "data": {
            "text/plain": [
              "<Figure size 640x480 with 2 Axes>"
            ],
            "image/png": "[encoded data removed]"
          },
          "metadata": {}
        }
      ]
    },
    {
      "cell_type": "markdown",
      "source": [
        "**Logistic Regression**"
      ],
      "metadata": {
        "id": "bgFIud5qfJkA"
      }
    },
    {
      "cell_type": "code",
      "source": [
        "from sklearn.linear_model import LogisticRegression\n",
        "\n",
        "#Y=1/(1+e^(-z)) ; if prediction is greater than the threshold value-> classified as 1 or true news\n",
        "#Z=w.x+b\n",
        "#Y=prediction probability(determines whether label will be 0 or 1), x=input features\n",
        "#w=weights (how important a feature is), b=biases(intercept)\n",
        "LR=LogisticRegression()\n",
        "LR.fit(X_train, y_train)"
      ],
      "metadata": {
        "colab": {
          "base_uri": "https://localhost:8080/",
          "height": 213
        },
        "id": "Aewi0kTgfIuX",
        "outputId": "776a5d38-8e65-4625-f16e-04ef3e5328ae"
      },
      "execution_count": null,
      "outputs": [
        {
          "output_type": "stream",
          "name": "stderr",
          "text": [
            "/usr/local/lib/python3.10/dist-packages/sklearn/linear_model/_logistic.py:458: ConvergenceWarning: lbfgs failed to converge (status=1):\n",
            "STOP: TOTAL NO. of ITERATIONS REACHED LIMIT.\n",
            "\n",
            "Increase the number of iterations (max_iter) or scale the data as shown in:\n",
            "    https://scikit-learn.org/stable/modules/preprocessing.html\n",
            "Please also refer to the documentation for alternative solver options:\n",
            "    https://scikit-learn.org/stable/modules/linear_model.html#logistic-regression\n",
            "  n_iter_i = _check_optimize_result(\n"
          ]
        },
        {
          "output_type": "execute_result",
          "data": {
            "text/plain": [
              "LogisticRegression()"
            ],
            "text/html": [
              "<style>#sk-container-id-1 {color: black;background-color: white;}#sk-container-id-1 pre{padding: 0;}#sk-container-id-1 div.sk-toggleable {background-color: white;}#sk-container-id-1 label.sk-toggleable__label {cursor: pointer;display: block;width: 100%;margin-bottom: 0;padding: 0.3em;box-sizing: border-box;text-align: center;}#sk-container-id-1 label.sk-toggleable__label-arrow:before {content: \"▸\";float: left;margin-right: 0.25em;color: #696969;}#sk-container-id-1 label.sk-toggleable__label-arrow:hover:before {color: black;}#sk-container-id-1 div.sk-estimator:hover label.sk-toggleable__label-arrow:before {color: black;}#sk-container-id-1 div.sk-toggleable__content {max-height: 0;max-width: 0;overflow: hidden;text-align: left;background-color: #f0f8ff;}#sk-container-id-1 div.sk-toggleable__content pre {margin: 0.2em;color: black;border-radius: 0.25em;background-color: #f0f8ff;}#sk-container-id-1 input.sk-toggleable__control:checked~div.sk-toggleable__content {max-height: 200px;max-width: 100%;overflow: auto;}#sk-container-id-1 input.sk-toggleable__control:checked~label.sk-toggleable__label-arrow:before {content: \"▾\";}#sk-container-id-1 div.sk-estimator input.sk-toggleable__control:checked~label.sk-toggleable__label {background-color: #d4ebff;}#sk-container-id-1 div.sk-label input.sk-toggleable__control:checked~label.sk-toggleable__label {background-color: #d4ebff;}#sk-container-id-1 input.sk-hidden--visually {border: 0;clip: rect(1px 1px 1px 1px);clip: rect(1px, 1px, 1px, 1px);height: 1px;margin: -1px;overflow: hidden;padding: 0;position: absolute;width: 1px;}#sk-container-id-1 div.sk-estimator {font-family: monospace;background-color: #f0f8ff;border: 1px dotted black;border-radius: 0.25em;box-sizing: border-box;margin-bottom: 0.5em;}#sk-container-id-1 div.sk-estimator:hover {background-color: #d4ebff;}#sk-container-id-1 div.sk-parallel-item::after {content: \"\";width: 100%;border-bottom: 1px solid gray;flex-grow: 1;}#sk-container-id-1 div.sk-label:hover label.sk-toggleable__label {background-color: #d4ebff;}#sk-container-id-1 div.sk-serial::before {content: \"\";position: absolute;border-left: 1px solid gray;box-sizing: border-box;top: 0;bottom: 0;left: 50%;z-index: 0;}#sk-container-id-1 div.sk-serial {display: flex;flex-direction: column;align-items: center;background-color: white;padding-right: 0.2em;padding-left: 0.2em;position: relative;}#sk-container-id-1 div.sk-item {position: relative;z-index: 1;}#sk-container-id-1 div.sk-parallel {display: flex;align-items: stretch;justify-content: center;background-color: white;position: relative;}#sk-container-id-1 div.sk-item::before, #sk-container-id-1 div.sk-parallel-item::before {content: \"\";position: absolute;border-left: 1px solid gray;box-sizing: border-box;top: 0;bottom: 0;left: 50%;z-index: -1;}#sk-container-id-1 div.sk-parallel-item {display: flex;flex-direction: column;z-index: 1;position: relative;background-color: white;}#sk-container-id-1 div.sk-parallel-item:first-child::after {align-self: flex-end;width: 50%;}#sk-container-id-1 div.sk-parallel-item:last-child::after {align-self: flex-start;width: 50%;}#sk-container-id-1 div.sk-parallel-item:only-child::after {width: 0;}#sk-container-id-1 div.sk-dashed-wrapped {border: 1px dashed gray;margin: 0 0.4em 0.5em 0.4em;box-sizing: border-box;padding-bottom: 0.4em;background-color: white;}#sk-container-id-1 div.sk-label label {font-family: monospace;font-weight: bold;display: inline-block;line-height: 1.2em;}#sk-container-id-1 div.sk-label-container {text-align: center;}#sk-container-id-1 div.sk-container {/* jupyter's `normalize.less` sets `[hidden] { display: none; }` but bootstrap.min.css set `[hidden] { display: none !important; }` so we also need the `!important` here to be able to override the default hidden behavior on the sphinx rendered scikit-learn.org. See: https://github.com/scikit-learn/scikit-learn/issues/21755 */display: inline-block !important;position: relative;}#sk-container-id-1 div.sk-text-repr-fallback {display: none;}</style><div id=\"sk-container-id-1\" class=\"sk-top-container\"><div class=\"sk-text-repr-fallback\"><pre>LogisticRegression()</pre><b>In a Jupyter environment, please rerun this cell to show the HTML representation or trust the notebook. <br />On GitHub, the HTML representation is unable to render, please try loading this page with nbviewer.org.</b></div><div class=\"sk-container\" hidden><div class=\"sk-item\"><div class=\"sk-estimator sk-toggleable\"><input class=\"sk-toggleable__control sk-hidden--visually\" id=\"sk-estimator-id-1\" type=\"checkbox\" checked><label for=\"sk-estimator-id-1\" class=\"sk-toggleable__label sk-toggleable__label-arrow\">LogisticRegression</label><div class=\"sk-toggleable__content\"><pre>LogisticRegression()</pre></div></div></div></div></div>"
            ]
          },
          "metadata": {},
          "execution_count": 40
        }
      ]
    },
    {
      "cell_type": "code",
      "source": [
        "pred_LR = LR.predict(X_test)\n",
        "LR_acc=LR.score(X_test, y_test)"
      ],
      "metadata": {
        "id": "2S57XCV8j4Iy"
      },
      "execution_count": null,
      "outputs": []
    },
    {
      "cell_type": "code",
      "source": [
        "LR_acc"
      ],
      "metadata": {
        "colab": {
          "base_uri": "https://localhost:8080/"
        },
        "id": "ChkZbXyJztKL",
        "outputId": "de55367b-a02d-4bb6-c8cf-5f1c4b94b294"
      },
      "execution_count": null,
      "outputs": [
        {
          "output_type": "execute_result",
          "data": {
            "text/plain": [
              "0.9400535236396075"
            ]
          },
          "metadata": {},
          "execution_count": 42
        }
      ]
    },
    {
      "cell_type": "code",
      "source": [
        "from sklearn.metrics import confusion_matrix, accuracy_score , precision_score , recall_score , f1_score\n",
        "cm = confusion_matrix(y_test, pred_LR)\n",
        "print(cm)\n",
        "as2=accuracy_score(y_test, pred_LR)\n",
        "ps2=precision_score(y_test, pred_LR)\n",
        "r2=recall_score(y_test, pred_LR)\n",
        "f12=f1_score(y_test, pred_LR)\n",
        "print(\"Accuracy Score :\",accuracy_score(y_test, pred_LR))\n",
        "print(\"Precision Score :\",precision_score(y_test, pred_LR))\n",
        "print(\"Recall Score :\",recall_score(y_test, pred_LR))\n",
        "print(\"f1 Score :\",f1_score(y_test, pred_LR))"
      ],
      "metadata": {
        "colab": {
          "base_uri": "https://localhost:8080/"
        },
        "id": "lKpgdHdOztMX",
        "outputId": "205bf5a8-928a-41e7-8fef-6252d0635a50"
      },
      "execution_count": null,
      "outputs": [
        {
          "output_type": "stream",
          "name": "stdout",
          "text": [
            "[[5471  371]\n",
            " [ 301 5067]]\n",
            "Accuracy Score : 0.9400535236396075\n",
            "Precision Score : 0.9317763883780802\n",
            "Recall Score : 0.9439269746646796\n",
            "f1 Score : 0.9378123264852859\n"
          ]
        }
      ]
    },
    {
      "cell_type": "code",
      "source": [
        "print(classification_report(y_test, pred_LR))"
      ],
      "metadata": {
        "colab": {
          "base_uri": "https://localhost:8080/"
        },
        "id": "YXF2OkE5ztOu",
        "outputId": "c245611d-f065-4c67-f19c-5fa29e774230"
      },
      "execution_count": null,
      "outputs": [
        {
          "output_type": "stream",
          "name": "stdout",
          "text": [
            "              precision    recall  f1-score   support\n",
            "\n",
            "           0       0.95      0.94      0.94      5842\n",
            "           1       0.93      0.94      0.94      5368\n",
            "\n",
            "    accuracy                           0.94     11210\n",
            "   macro avg       0.94      0.94      0.94     11210\n",
            "weighted avg       0.94      0.94      0.94     11210\n",
            "\n"
          ]
        }
      ]
    },
    {
      "cell_type": "code",
      "source": [
        "#Heat Map\n",
        "import seaborn as sns\n",
        "from sklearn.metrics import classification_report\n",
        "clf_report = classification_report(y_test, pred_LR, target_names=['0', '1'], output_dict=True)\n",
        "cleaned_report={}\n",
        "cleaned_report['0']=clf_report['0']\n",
        "cleaned_report['1']=clf_report['1']\n",
        "sns.heatmap(pd.DataFrame(cleaned_report).iloc[:-1,:],annot=True)"
      ],
      "metadata": {
        "colab": {
          "base_uri": "https://localhost:8080/",
          "height": 447
        },
        "id": "zaXxp0zdztQ1",
        "outputId": "d09eaf68-ad23-48bd-bc67-67871ee03fdd"
      },
      "execution_count": null,
      "outputs": [
        {
          "output_type": "execute_result",
          "data": {
            "text/plain": [
              "<Axes: >"
            ]
          },
          "metadata": {},
          "execution_count": 45
        },
        {
          "output_type": "display_data",
          "data": {
            "text/plain": [
              "<Figure size 640x480 with 2 Axes>"
            ],
            "image/png": "[encoded data removed]"
          },
          "metadata": {}
        }
      ]
    },
    {
      "cell_type": "markdown",
      "source": [
        "**Decision Tree**"
      ],
      "metadata": {
        "id": "fnnYOcbTFkcp"
      }
    },
    {
      "cell_type": "code",
      "source": [
        "from sklearn.tree import DecisionTreeClassifier\n",
        "\n",
        "DT = DecisionTreeClassifier()\n",
        "DT.fit(X_train, y_train)\n",
        "\n",
        "DecisionTreeClassifier()\n",
        "DT_acc=DT.score(X_test, y_test)\n",
        "pred_DT =  DT.predict(X_test)\n",
        "print(classification_report(y_test, pred_DT))"
      ],
      "metadata": {
        "colab": {
          "base_uri": "https://localhost:8080/"
        },
        "id": "5KzizEB9ztS9",
        "outputId": "0dd9936f-1aff-4dac-b86c-140b00da511e"
      },
      "execution_count": null,
      "outputs": [
        {
          "output_type": "stream",
          "name": "stdout",
          "text": [
            "              precision    recall  f1-score   support\n",
            "\n",
            "           0       0.89      0.92      0.91      5842\n",
            "           1       0.91      0.88      0.89      5368\n",
            "\n",
            "    accuracy                           0.90     11210\n",
            "   macro avg       0.90      0.90      0.90     11210\n",
            "weighted avg       0.90      0.90      0.90     11210\n",
            "\n"
          ]
        }
      ]
    },
    {
      "cell_type": "code",
      "source": [
        "cm = confusion_matrix(y_test, pred_DT)\n",
        "print(cm)\n",
        "as3=accuracy_score(y_test, pred_DT)\n",
        "ps3=precision_score(y_test, pred_DT)\n",
        "r3=recall_score(y_test, pred_DT)\n",
        "f13=f1_score(y_test, pred_DT)\n",
        "print(\"Accuracy Score :\",accuracy_score(y_test, pred_DT))\n",
        "print(\"Precision Score :\",precision_score(y_test, pred_DT))\n",
        "print(\"Recall Score :\",recall_score(y_test, pred_DT))\n",
        "print(\"f1 Score :\",f1_score(y_test, pred_DT))\n"
      ],
      "metadata": {
        "colab": {
          "base_uri": "https://localhost:8080/"
        },
        "id": "_Jlva2XjztWI",
        "outputId": "646666a0-60b0-4971-ba58-6daf94294f01"
      },
      "execution_count": null,
      "outputs": [
        {
          "output_type": "stream",
          "name": "stdout",
          "text": [
            "[[5385  457]\n",
            " [ 659 4709]]\n",
            "Accuracy Score : 0.9004460303300624\n",
            "Precision Score : 0.9115369725125823\n",
            "Recall Score : 0.8772354694485842\n",
            "f1 Score : 0.8940573381431554\n"
          ]
        }
      ]
    },
    {
      "cell_type": "code",
      "source": [
        "#Heat Map\n",
        "import seaborn as sns\n",
        "from sklearn.metrics import classification_report\n",
        "clf_report = classification_report(y_test, pred_DT, target_names=['Fake', 'True'], output_dict=True)\n",
        "cleaned_report={}\n",
        "cleaned_report['Fake']=clf_report['Fake']\n",
        "cleaned_report['True']=clf_report['True']\n",
        "sns.heatmap(pd.DataFrame(cleaned_report).iloc[:-1,:],annot=True)"
      ],
      "metadata": {
        "colab": {
          "base_uri": "https://localhost:8080/",
          "height": 447
        },
        "id": "pqvtgKf-zb9L",
        "outputId": "24f88774-b2a2-4aab-fb75-488527cd5e87"
      },
      "execution_count": null,
      "outputs": [
        {
          "output_type": "execute_result",
          "data": {
            "text/plain": [
              "<Axes: >"
            ]
          },
          "metadata": {},
          "execution_count": 49
        },
        {
          "output_type": "display_data",
          "data": {
            "text/plain": [
              "<Figure size 640x480 with 2 Axes>"
            ],
            "image/png": "[encoded data removed]"
          },
          "metadata": {}
        }
      ]
    },
    {
      "cell_type": "markdown",
      "source": [
        "**LSTM**"
      ],
      "metadata": {
        "id": "b6bQik0jHMdU"
      }
    },
    {
      "cell_type": "code",
      "source": [
        "import pandas as pd\n",
        "from sklearn.model_selection import train_test_split\n",
        "from tensorflow.keras.preprocessing.text import Tokenizer\n",
        "from tensorflow.keras.preprocessing.sequence import pad_sequences\n",
        "from tensorflow.keras.models import Sequential\n",
        "from tensorflow.keras.layers import Embedding, LSTM, Dense\n",
        "\n",
        "# Divide into train and test set\n",
        "X = df['news']\n",
        "y = df['class']\n",
        "x_train, x_test, y_train, y_test = train_test_split(X, y, test_size=.25, stratify=y, random_state=42)\n",
        "\n",
        "# Tokenize the text\n",
        "max_words = 10000\n",
        "tokenizer = Tokenizer(num_words=max_words, oov_token=\"<OOV>\")\n",
        "tokenizer.fit_on_texts(x_train)\n",
        "\n",
        "# Convert text to sequences\n",
        "x_train_sequences = tokenizer.texts_to_sequences(x_train)\n",
        "x_test_sequences = tokenizer.texts_to_sequences(x_test)\n",
        "\n",
        "# Pad sequences to have the same length\n",
        "max_sequence_length = 100  # Choose an appropriate value\n",
        "x_train_padded = pad_sequences(x_train_sequences, maxlen=max_sequence_length, padding='post', truncating='post')\n",
        "x_test_padded = pad_sequences(x_test_sequences, maxlen=max_sequence_length, padding='post', truncating='post')\n",
        "\n",
        "# Build LSTM model\n",
        "embedding_dim = 50  # Choose an appropriate value\n",
        "model = Sequential([\n",
        "    Embedding(input_dim=max_words, output_dim=embedding_dim, input_length=max_sequence_length),\n",
        "    LSTM(units=50),\n",
        "    Dense(units=1, activation='sigmoid')\n",
        "])\n",
        "\n",
        "# Compile the model\n",
        "model.compile(optimizer='adam', loss='binary_crossentropy', metrics=['accuracy'])\n",
        "\n",
        "# Train the model\n",
        "model.fit(x_train_padded, y_train, epochs=5, validation_data=(x_test_padded, y_test))\n",
        "\n",
        "# Evaluate the model\n",
        "loss, accuracy = model.evaluate(x_test_padded, y_test)\n",
        "print(f\"Test Loss: {loss}, Test Accuracy: {accuracy}\")\n"
      ],
      "metadata": {
        "id": "5WdJ1TOOHPDI"
      },
      "execution_count": null,
      "outputs": []
    },
    {
      "cell_type": "code",
      "source": [],
      "metadata": {
        "id": "pxVNRt34HPLQ"
      },
      "execution_count": null,
      "outputs": []
    },
    {
      "cell_type": "code",
      "source": [],
      "metadata": {
        "id": "bL2YnQGqHPQ_"
      },
      "execution_count": null,
      "outputs": []
    },
    {
      "cell_type": "markdown",
      "source": [
        "**Comparison**"
      ],
      "metadata": {
        "id": "Gfzu9aWMGNeM"
      }
    },
    {
      "cell_type": "code",
      "source": [
        "comp_graph_data=[['Nave Bayes',as1,ps1,r1,f11],['Logistic Regressioon',as2,ps2,r2,f12], ['Decision Tree',as3,ps3,r3,f13]]\n",
        "df=pd.DataFrame(comp_graph_data, columns=['Algorithm', 'Accuracy Score', 'Precision Score', 'Recall Score', 'F1 Score'])\n",
        "df.set_index('Algorithm', inplace=True)\n",
        "df"
      ],
      "metadata": {
        "id": "dDcIwC_OGH_y"
      },
      "execution_count": null,
      "outputs": []
    },
    {
      "cell_type": "code",
      "source": [],
      "metadata": {
        "id": "bst0ZgRHGICN"
      },
      "execution_count": null,
      "outputs": []
    },
    {
      "cell_type": "code",
      "source": [],
      "metadata": {
        "id": "JD7roXEmGIEv"
      },
      "execution_count": null,
      "outputs": []
    },
    {
      "cell_type": "code",
      "source": [],
      "metadata": {
        "id": "2A9ZzUs7GIIX"
      },
      "execution_count": null,
      "outputs": []
    }
  ]
}